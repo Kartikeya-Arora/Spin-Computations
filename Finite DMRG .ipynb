{
 "cells": [
  {
   "cell_type": "code",
   "execution_count": 1,
   "metadata": {},
   "outputs": [
    {
     "name": "stdout",
     "output_type": "stream",
     "text": [
      "-8.68247297665494\n"
     ]
    }
   ],
   "source": [
    "from collections import namedtuple\n",
    "import numpy as np\n",
    "from scipy.sparse.linalg import eigsh\n",
    "\n",
    "block=namedtuple(\"block\",[\"size\",\"basis_size\",\"op_dict\"])\n",
    "enlargedblock=namedtuple(\"enlargedblock\",[\"size\",\"basis_size\",\"op_dict\"])\n",
    "\n",
    "Sz=np.array([[0.5,0],[0,-0.5]])\n",
    "Sp=np.array([[0,1],[0,0]])\n",
    "H=np.zeros([2,2])\n",
    "\n",
    "initialblock=block(1,2,{\"h\":H,\"sz\":Sz,\"sp\":Sp})\n",
    "\n",
    "def enlarge_block(block):\n",
    "    operator=block.op_dict\n",
    "    enlarged_dict={}\n",
    "    enlarged_dict[\"h\"]=np.kron(operator[\"h\"],np.eye(2))+np.kron(operator[\"sz\"],Sz) \\\n",
    "                      +0.5*np.kron(operator[\"sp\"],Sp.conjugate().transpose()) \\\n",
    "                      +0.5*np.kron(operator[\"sp\"].conjugate().transpose(),Sp)\n",
    "    enlarged_dict[\"sz\"]=np.kron(np.eye(block.basis_size),Sz)\n",
    "    enlarged_dict[\"sp\"]=np.kron(np.eye(block.basis_size),Sp)\n",
    "    \n",
    "    enlarged_block=enlargedblock((block.size+1),(block.basis_size*2),enlarged_dict)\n",
    "    \n",
    "    return enlarged_block\n",
    "\n",
    "def truncate(op, tmatrix):\n",
    "    transformed_op=tmatrix.conjugate().transpose().dot(op.dot(tmatrix))\n",
    "    return transformed_op   \n",
    "\n",
    "def single_dmrg_step(system,environment,m):\n",
    "    \n",
    "    sys_enlarged=enlarge_block(system)\n",
    "    \n",
    "    if system is environment:\n",
    "        env_enlarged=sys_enlarged\n",
    "    else :\n",
    "        env_enlarged=enlarge_block(environment)\n",
    "    \n",
    "    sys_enlarged_basis=sys_enlarged.basis_size\n",
    "    env_enlarged_basis=env_enlarged.basis_size\n",
    "    \n",
    "    sys_enlarged_op=sys_enlarged.op_dict\n",
    "    env_enlarged_op=env_enlarged.op_dict\n",
    "    \n",
    "    H_superblock=np.kron(sys_enlarged_op[\"h\"],np.eye(env_enlarged_basis))\\\n",
    "                  +np.kron(np.eye(sys_enlarged_basis),env_enlarged_op[\"h\"])\\\n",
    "                  +np.kron(sys_enlarged_op[\"sz\"],env_enlarged_op[\"sz\"]) \\\n",
    "            +0.5*np.kron(sys_enlarged_op[\"sp\"],env_enlarged_op[\"sp\"].conjugate().transpose())\\\n",
    "            +0.5*np.kron(sys_enlarged_op[\"sp\"].conjugate().transpose(),env_enlarged_op[\"sp\"])\n",
    "    \n",
    "    (gs_energy,),gs = eigsh(H_superblock, k=1, which=\"SA\")\n",
    "    psi=gs.reshape([sys_enlarged_basis, -1], order=\"C\")\n",
    "\n",
    "    d=H_superblock.shape[0]\n",
    "    rho=np.dot(gs.reshape(d,1),gs.reshape(1,d))\n",
    "    cor=np.kron(sys_enlarged_op[\"sz\"],np.eye(env_enlarged_basis))\n",
    "    measure=np.trace(np.dot(rho,cor))\n",
    "    \n",
    "    rho=np.dot(psi, psi.conjugate().transpose())\n",
    "    evals, evecs =np.linalg.eigh(rho)\n",
    "    \n",
    "    possible_eigenstates = []\n",
    "    for eva, evec in zip(evals, evecs.transpose()):\n",
    "        possible_eigenstates.append((eva, evec))\n",
    "    possible_eigenstates.sort(reverse=True, key=lambda x: x[0])  # largest eigenvalue first\n",
    "    \n",
    "    my_m = min(len(possible_eigenstates), m)\n",
    "    T = np.zeros((sys_enlarged_basis, my_m), dtype='d', order='F')\n",
    "    for i, (eval, evec) in enumerate(possible_eigenstates[:my_m]):\n",
    "        T[:, i] = evec\n",
    "\n",
    "    truncation_error = 1 - sum([x[0] for x in possible_eigenstates[:my_m]])\n",
    "    \n",
    "    truncated_operator={}\n",
    "    truncated_operator[\"h\"]=truncate(sys_enlarged_op[\"h\"],T)\n",
    "    truncated_operator[\"sz\"]=truncate(sys_enlarged_op[\"sz\"],T)\n",
    "    truncated_operator[\"sp\"]=truncate(sys_enlarged_op[\"sp\"],T)\n",
    "    Block=namedtuple(\"Block\",[\"size\",\"basis_size\",\"op_dict\"])\n",
    "    newblock =Block(size=sys_enlarged.size,basis_size=my_m,op_dict=truncated_operator)\n",
    "    \n",
    "    return newblock,gs_energy\n",
    "\n",
    "\n",
    "\n",
    "block_store={}\n",
    "\n",
    "Block=initialblock\n",
    "block_store[\"l\", Block.size] = Block\n",
    "block_store[\"r\", Block.size] = Block\n",
    "\n",
    "L=20\n",
    "m=20\n",
    "measure=[]\n",
    "\n",
    "while 2*Block.size < L:\n",
    "    Block,energy=single_dmrg_step(Block,Block,m)\n",
    "    \n",
    "    block_store[\"l\", Block.size] = Block\n",
    "    block_store[\"r\", Block.size] = Block\n",
    "    \n",
    "sys=\"l\"\n",
    "env=\"r\"\n",
    "\n",
    "sys_block=Block\n",
    "\n",
    "energy=0\n",
    "while True:\n",
    "        env_block=block_store[env,L-sys_block.size-2]\n",
    "        \n",
    "        counter=0\n",
    "    \n",
    "        if  env_block.size == 1:\n",
    "            sys,env=env,sys\n",
    "            sys_block,env_block=env_block,sys_block\n",
    "            \n",
    "        \n",
    "        sys_block, energy=single_dmrg_step(sys_block, env_block, m=m)\n",
    "            \n",
    "        block_store[sys, sys_block.size] = sys_block\n",
    "        \n",
    "        if sys == \"l\" and 2 * sys_block.size == L:\n",
    "            break \n",
    "            \n",
    "print(energy)            "
   ]
  },
  {
   "cell_type": "markdown",
   "metadata": {},
   "source": [
    "ED "
   ]
  },
  {
   "cell_type": "code",
   "execution_count": 2,
   "metadata": {},
   "outputs": [
    {
     "data": {
      "text/plain": [
       "-8.682473334398953"
      ]
     },
     "execution_count": 2,
     "metadata": {},
     "output_type": "execute_result"
    }
   ],
   "source": [
    "import numpy as np\n",
    "import quimb as qu\n",
    "\n",
    "def Hq(i):\n",
    "    return(qu.ham_heis(i,j=1,b=0,cyclic=False,sparse=True))\n",
    "\n",
    "qu.groundenergy(Hq(20))"
   ]
  },
  {
   "cell_type": "markdown",
   "metadata": {},
   "source": [
    "Quimb"
   ]
  },
  {
   "cell_type": "code",
   "execution_count": 3,
   "metadata": {},
   "outputs": [
    {
     "name": "stdout",
     "output_type": "stream",
     "text": [
      "SWEEP-1, direction=R, max_bond=(8/8), cutoff:1e-08\n"
     ]
    },
    {
     "name": "stderr",
     "output_type": "stream",
     "text": [
      "100%|###########################################| 19/19 [00:00<00:00, 34.76it/s]"
     ]
    },
    {
     "name": "stdout",
     "output_type": "stream",
     "text": [
      "Energy: -8.657898257195253 ... not converged.\n",
      "SWEEP-2, direction=R, max_bond=(8/16), cutoff:1e-08\n"
     ]
    },
    {
     "name": "stderr",
     "output_type": "stream",
     "text": [
      "\n",
      "100%|##########################################| 19/19 [00:00<00:00, 108.25it/s]"
     ]
    },
    {
     "name": "stdout",
     "output_type": "stream",
     "text": [
      "Energy: -8.682417906931306 ... not converged.\n",
      "SWEEP-3, direction=R, max_bond=(16/32), cutoff:1e-08\n"
     ]
    },
    {
     "name": "stderr",
     "output_type": "stream",
     "text": [
      "\n",
      "100%|##########################################| 19/19 [00:00<00:00, 139.62it/s]"
     ]
    },
    {
     "name": "stdout",
     "output_type": "stream",
     "text": [
      "Energy: -8.68247288646431 ... not converged.\n",
      "SWEEP-4, direction=R, max_bond=(21/64), cutoff:1e-08\n"
     ]
    },
    {
     "name": "stderr",
     "output_type": "stream",
     "text": [
      "\n",
      "100%|##########################################| 19/19 [00:00<00:00, 141.10it/s]"
     ]
    },
    {
     "name": "stdout",
     "output_type": "stream",
     "text": [
      "Energy: -8.682473017444018 ... converged!\n"
     ]
    },
    {
     "name": "stderr",
     "output_type": "stream",
     "text": [
      "\n"
     ]
    },
    {
     "data": {
      "text/plain": [
       "True"
      ]
     },
     "execution_count": 3,
     "metadata": {},
     "output_type": "execute_result"
    }
   ],
   "source": [
    "from quimb import *\n",
    "from quimb.tensor import *\n",
    "H = MPO_ham_heis(20, cyclic=False)\n",
    "dmrg=DMRG2(H)\n",
    "dmrg.solve(tol=1e-6, verbosity=1)"
   ]
  },
  {
   "cell_type": "markdown",
   "metadata": {},
   "source": [
    "Tenpy"
   ]
  },
  {
   "cell_type": "code",
   "execution_count": 6,
   "metadata": {},
   "outputs": [
    {
     "name": "stdout",
     "output_type": "stream",
     "text": [
      "Reading 'conserve'=None for config SpinChain\n",
      "Reading 'L'=20 for config SpinChain\n"
     ]
    },
    {
     "name": "stderr",
     "output_type": "stream",
     "text": [
      "C:\\Users\\Kartikeya Arora\\anaconda3\\lib\\site-packages\\tenpy\\tools\\params.py:225: UserWarning: unused option ['J'] for config SpinChain\n",
      "\n",
      "  warnings.warn(msg.format(keys=sorted(unused), name=self.name))\n"
     ]
    },
    {
     "name": "stdout",
     "output_type": "stream",
     "text": [
      "Reading 'combine'=True for config TwoSiteDMRGEngine\n",
      "Subconfig 'trunc_params'=Config(<3 options>, 'trunc_params') for config TwoSiteDMRGEngine\n",
      "Reading 'max_E_err'=1e-10 for config TwoSiteDMRGEngine\n",
      "Reading 'mixer'=True for config TwoSiteDMRGEngine\n",
      "================================================================================\n",
      "sweep 10, age = 20\n",
      "Energy = -8.6824733343989617, S = nan, norm_err = 3.7e-13\n",
      "Current memory usage 303.3 MB, time elapsed: 8.5 s\n",
      "Delta E = nan, Delta S = 0.0000e+00 (per sweep)\n",
      "max_trunc_err = 1.7108e-16, max_E_trunc = 2.6645e-14\n",
      "MPS bond dimensions: [2, 4, 8, 16, 32, 64, 100, 100, 100, 100, 100, 100, 100, 64, 32, 16, 8, 4, 2]\n",
      "disable mixer after 15 sweeps, final amplitude 3.05e-10\n",
      "================================================================================\n",
      "sweep 20, age = 20\n",
      "Energy = -8.6824733343989351, S = 0.6601856601226691, norm_err = 6.0e-14\n",
      "Current memory usage 303.7 MB, time elapsed: 15.1 s\n",
      "Delta E = 2.6645e-15, Delta S = nan (per sweep)\n",
      "max_trunc_err = 5.5116e-17, max_E_trunc = 1.9540e-14\n",
      "MPS bond dimensions: [2, 4, 8, 16, 32, 64, 98, 100, 100, 100, 100, 100, 98, 64, 32, 16, 8, 4, 2]\n",
      "================================================================================\n",
      "sweep 30, age = 20\n",
      "Energy = -8.6824733343989688, S = 0.6601856601226657, norm_err = 7.1e-14\n",
      "Current memory usage 298.1 MB, time elapsed: 19.9 s\n",
      "Delta E = -3.3751e-15, Delta S = -3.4417e-16 (per sweep)\n",
      "max_trunc_err = 5.5791e-17, max_E_trunc = 1.7764e-14\n",
      "MPS bond dimensions: [2, 4, 8, 16, 32, 64, 98, 100, 100, 100, 100, 100, 98, 64, 32, 16, 8, 4, 2]\n",
      "================================================================================\n",
      "DMRG finished after 30 sweeps.\n",
      "total size = 20, maximum chi = 100\n",
      "================================================================================\n",
      "-8.682473334398969\n"
     ]
    }
   ],
   "source": [
    "import numpy as np\n",
    "import tenpy\n",
    "from tenpy.networks.mps import MPS\n",
    "from tenpy.models.spins import SpinChain\n",
    "from tenpy.algorithms import dmrg\n",
    "\n",
    "model_params = {\n",
    "    'L': L,\n",
    "    'J':1,\n",
    "    'conserve': None,\n",
    "}\n",
    "M = tenpy.models.spins.SpinChain(model_params)\n",
    "psi = MPS.from_lat_product_state(M.lat, [['up']])\n",
    "dmrg_params = {\n",
    "    'mixer': True, \n",
    "    'max_E_err': 1.e-10,\n",
    "    'trunc_params': {\n",
    "        'chi_max': 100,\n",
    "        'svd_min': 1.e-10,\n",
    "    },\n",
    "    'verbose': True,\n",
    "    'combine':True\n",
    "}\n",
    "eng = dmrg.TwoSiteDMRGEngine(psi,model=M, options=dmrg_params)\n",
    "E, psi = eng.run() \n",
    "\n",
    "print(E)"
   ]
  },
  {
   "cell_type": "code",
   "execution_count": null,
   "metadata": {},
   "outputs": [],
   "source": []
  }
 ],
 "metadata": {
  "kernelspec": {
   "display_name": "Python 3",
   "language": "python",
   "name": "python3"
  },
  "language_info": {
   "codemirror_mode": {
    "name": "ipython",
    "version": 3
   },
   "file_extension": ".py",
   "mimetype": "text/x-python",
   "name": "python",
   "nbconvert_exporter": "python",
   "pygments_lexer": "ipython3",
   "version": "3.8.3"
  }
 },
 "nbformat": 4,
 "nbformat_minor": 4
}
