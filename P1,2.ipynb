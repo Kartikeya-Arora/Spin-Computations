{
 "cells": [
  {
   "cell_type": "code",
   "execution_count": 47,
   "metadata": {},
   "outputs": [],
   "source": [
    "import numpy as np\n",
    "import matplotlib.pyplot as plt"
   ]
  },
  {
   "cell_type": "code",
   "execution_count": 38,
   "metadata": {},
   "outputs": [],
   "source": [
    "Z=np.array([[1,0],[0,-1]])"
   ]
  },
  {
   "cell_type": "code",
   "execution_count": 39,
   "metadata": {},
   "outputs": [],
   "source": [
    "def op(L):\n",
    "    a=0\n",
    "    for i in range(L):\n",
    "        a=a+(np.kron(np.eye(2**i),np.kron(Z,np.eye(2**(L-1-i)))))\n",
    "    return(a)\n",
    "    \n",
    "def mag(L):\n",
    "    m=[]\n",
    "    I=np.eye(2**L)\n",
    "    for x in range(2**L):\n",
    "        psi=I[:,x]\n",
    "        mg=np.dot(np.transpose(psi),np.dot(op(L),psi))\n",
    "        m.append(mg)\n",
    "    l=[-1*i for i in m]\n",
    "    x=np.argsort(l)\n",
    "    return(x)     \n",
    "\n",
    "\n",
    "def P1(L):\n",
    "    arr=np.eye(2**L)\n",
    "    p1=np.zeros((2**L,2**L))\n",
    "    x=mag(L)\n",
    "    for i in range(len(x)):\n",
    "        p1[i,:]=arr[x[i],:]\n",
    "    return(p1)    \n",
    "    "
   ]
  },
  {
   "cell_type": "code",
   "execution_count": 45,
   "metadata": {},
   "outputs": [],
   "source": [
    "L=3"
   ]
  },
  {
   "cell_type": "code",
   "execution_count": 48,
   "metadata": {},
   "outputs": [],
   "source": [
    "p1=P1(L)\n",
    "p1t=np.transpose(p1)\n",
    "\n",
    "H=\n",
    "\n",
    "\n",
    "M=np.dot(p1,np.dot(H,p1t))"
   ]
  },
  {
   "cell_type": "code",
   "execution_count": null,
   "metadata": {},
   "outputs": [],
   "source": [
    "plt.pcolormesh(M)"
   ]
  }
 ],
 "metadata": {
  "kernelspec": {
   "display_name": "Python 3",
   "language": "python",
   "name": "python3"
  },
  "language_info": {
   "codemirror_mode": {
    "name": "ipython",
    "version": 3
   },
   "file_extension": ".py",
   "mimetype": "text/x-python",
   "name": "python",
   "nbconvert_exporter": "python",
   "pygments_lexer": "ipython3",
   "version": "3.8.3"
  }
 },
 "nbformat": 4,
 "nbformat_minor": 4
}
