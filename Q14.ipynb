{
 "cells": [
  {
   "cell_type": "code",
   "execution_count": 16,
   "metadata": {},
   "outputs": [
    {
     "name": "stdout",
     "output_type": "stream",
     "text": [
      "no. of particles:3\n",
      "Hamiltonian(open):\n",
      "   (0, 0)\t(5+0j)\n",
      "  (1, 1)\t(1+0j)\n",
      "  (1, 2)\t(2+0j)\n",
      "  (2, 1)\t(2+0j)\n",
      "  (2, 2)\t(-1+0j)\n",
      "  (2, 4)\t(2+0j)\n",
      "  (3, 3)\t(-1+0j)\n",
      "  (3, 5)\t(2+0j)\n",
      "  (4, 2)\t(2+0j)\n",
      "  (4, 4)\t(1+0j)\n",
      "  (5, 3)\t(2+0j)\n",
      "  (5, 5)\t(-3+0j)\n",
      "  (5, 6)\t(2+0j)\n",
      "  (6, 5)\t(2+0j)\n",
      "  (6, 6)\t(-1+0j)\n",
      "  (7, 7)\t(-1+0j)\n"
     ]
    }
   ],
   "source": [
    "import numpy as np\n",
    "import scipy.sparse as sc\n",
    "from scipy.sparse.linalg import eigsh\n",
    "import random\n",
    "\n",
    "def s(A,i):\n",
    "    s=sc.kron(sc.eye(2**i),sc.kron(A,sc.eye(2**(L-1-i))))\n",
    "    return(s)\n",
    "\n",
    "X =sc.csr_matrix([[0,1],[1,0]],dtype=complex)\n",
    "Y =sc.csr_matrix([[0,0-1.j],[0+1.j,0]],dtype=complex)\n",
    "Z =sc.csr_matrix([[1,0],[0,-1]],dtype=complex)\n",
    "I=sc.csr_matrix(2, dtype = complex)\n",
    "L=int(input('no. of particles:'))\n",
    "n=2**L\n",
    "\n",
    "a=sc.csr_matrix(np.zeros((n,n)))\n",
    "b=sc.csr_matrix(np.zeros((n,n)))\n",
    "c=sc.csr_matrix(np.zeros((n,n)))\n",
    "d=sc.csr_matrix(np.zeros((n,n)))\n",
    "for i in range(L-1):\n",
    "    a=a+np.dot(s(X,i),s(X,i+1))\n",
    "    b=b+np.dot(s(Y,i),s(Y,i+1))\n",
    "    c=c+np.dot(s(Z,i),s(Z,i+1))\n",
    "   \n",
    "              \n",
    "                \n",
    "for i in range(L):\n",
    "    h=random.random()\n",
    "    d=d+s(Z,i)  \n",
    "         \n",
    "Ham_open=a+b+c+d\n",
    "\n",
    "print('Hamiltonian(open):\\n',Ham_open)\n"
   ]
  },
  {
   "cell_type": "code",
   "execution_count": 23,
   "metadata": {},
   "outputs": [
    {
     "name": "stdout",
     "output_type": "stream",
     "text": [
      "[-5. -3. -1.  1. -1.  1.]\n"
     ]
    }
   ],
   "source": [
    "v,w=eigsh(Ham_open,which='SA')\n",
    "print(v)\n",
    "\n",
    "GS=w[:,0]"
   ]
  },
  {
   "cell_type": "code",
   "execution_count": 24,
   "metadata": {},
   "outputs": [
    {
     "name": "stdout",
     "output_type": "stream",
     "text": [
      "Ground State:\n",
      " [[-3.19364616e-16-1.05173677e-16j]\n",
      " [-4.76996487e-17-9.05454967e-17j]\n",
      " [ 2.20491016e-17+6.65654488e-19j]\n",
      " [ 8.64577462e-02+3.98988377e-01j]\n",
      " [ 2.39929998e-17-4.81043889e-17j]\n",
      " [-1.72915492e-01-7.97976753e-01j]\n",
      " [ 8.64577462e-02+3.98988377e-01j]\n",
      " [ 1.66593383e-16+1.58696870e-16j]]\n"
     ]
    }
   ],
   "source": [
    "print('Ground State:\\n',GS.reshape(8,1))\n"
   ]
  },
  {
   "cell_type": "code",
   "execution_count": null,
   "metadata": {},
   "outputs": [],
   "source": []
  }
 ],
 "metadata": {
  "kernelspec": {
   "display_name": "Python 3",
   "language": "python",
   "name": "python3"
  },
  "language_info": {
   "codemirror_mode": {
    "name": "ipython",
    "version": 3
   },
   "file_extension": ".py",
   "mimetype": "text/x-python",
   "name": "python",
   "nbconvert_exporter": "python",
   "pygments_lexer": "ipython3",
   "version": "3.8.3"
  }
 },
 "nbformat": 4,
 "nbformat_minor": 4
}
