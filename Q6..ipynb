{
 "cells": [
  {
   "cell_type": "markdown",
   "metadata": {},
   "source": [
    "a)"
   ]
  },
  {
   "cell_type": "code",
   "execution_count": 2,
   "metadata": {},
   "outputs": [
    {
     "name": "stdout",
     "output_type": "stream",
     "text": [
      "A: [[0.85999954+0.44432504j]\n",
      " [0.21553311+0.12853612j]]\n",
      "B: [[0.05349766+0.55079955j]\n",
      " [0.54367543+0.44060462j]\n",
      " [0.30348172+0.33457631j]]\n",
      "Hamiltonian: [[ 2.41615941+0.j  0.        +0.j  0.        +0.j  0.        +0.j\n",
      "   0.        +0.j  0.        +0.j]\n",
      " [ 0.        +0.j  0.41615941+0.j  0.        +0.j  2.        +0.j\n",
      "   0.        +0.j  0.        +0.j]\n",
      " [ 0.        +0.j  0.        +0.j -1.58384059+0.j  0.        +0.j\n",
      "   2.        +0.j  0.        +0.j]\n",
      " [ 0.        +0.j  2.        +0.j  0.        +0.j -0.41615941+0.j\n",
      "   0.        +0.j  0.        +0.j]\n",
      " [ 0.        +0.j  0.        +0.j  2.        +0.j  0.        +0.j\n",
      "  -0.41615941+0.j  0.        +0.j]\n",
      " [ 0.        +0.j  0.        +0.j  0.        +0.j  0.        +0.j\n",
      "   0.        +0.j -0.41615941+0.j]]\n"
     ]
    }
   ],
   "source": [
    "import numpy as np\n",
    "import random\n",
    "import matplotlib.pyplot as plt\n",
    "\n",
    "Xa =np.array([[0,1],[1,0]])\n",
    "Ya =np.array([[0,0-1.j],[0+1.j,0]])\n",
    "Za =np.array([[1,0],[0,-1]])\n",
    "\n",
    "Xb =np.array([[0,1,0],[1,0,1],[0,1,0]])\n",
    "Yb =np.array([[0,-1.j,0],[0+1.j,0,-1.j],[0,1.j,0]])\n",
    "Zb =np.array([[1,0,0],[0,0,0],[0,0,-1]])\n",
    "\n",
    "XaF=np.kron(Xa,np.identity(3, dtype = complex))\n",
    "XbF=np.kron(np.identity(2, dtype = complex),Xb)\n",
    "\n",
    "YaF=np.kron(Ya,np.identity(3, dtype = complex))\n",
    "YbF=np.kron(np.identity(2, dtype = complex),Yb)\n",
    "\n",
    "ZaF=np.kron(Za,np.identity(3, dtype = complex))\n",
    "ZbF=np.kron(np.identity(2, dtype = complex),Zb)\n",
    "\n",
    "h=random.random()\n",
    "\n",
    "## A -> Spin-1/2 Particle\n",
    "A=np.zeros((2,1),dtype=complex)\n",
    "A[0][0]=random.random()+random.random()*1.j\n",
    "A[1][0]=random.random()+random.random()*1.j\n",
    "hA=np.conj(A).T\n",
    "norA=(np.dot(hA,A))**0.5\n",
    "A=A/norA\n",
    "hA=hA/norA\n",
    "\n",
    "\n",
    "\n",
    "##  B -> Spin-1 Particle \n",
    "\n",
    "B=np.zeros((3,1),dtype=complex)\n",
    "B[0][0]=random.random()+random.random()*1.j\n",
    "B[1][0]=random.random()+random.random()*1.j\n",
    "B[2][0]=random.random()+random.random()*1.j\n",
    "hB=np.conj(B).T\n",
    "norB=(np.dot(hB,B))**0.5\n",
    "B=B/norB\n",
    "hB=hB/norB\n",
    "\n",
    "\n",
    "Ham=np.dot(XaF,XbF)+np.dot(YaF,YbF)+np.dot(ZaF,ZbF)+(h*ZaF)+ZbF\n",
    "\n",
    "\n",
    "print('A:',A)\n",
    "print('B:',B)\n",
    "print('Hamiltonian:',Ham)"
   ]
  },
  {
   "cell_type": "code",
   "execution_count": 3,
   "metadata": {},
   "outputs": [
    {
     "name": "stdout",
     "output_type": "stream",
     "text": [
      "Full system: [[-0.19872607+0.49745771j]\n",
      " [ 0.27178895+0.62048838j]\n",
      " [ 0.11233351+0.42258j   ]\n",
      " [-0.05926712+0.12559192j]\n",
      " [ 0.06054645+0.16484681j]\n",
      " [ 0.02240522+0.11112063j]]\n",
      "hAB: [[-0.19872607-0.49745771j  0.27178895-0.62048838j  0.11233351-0.42258j\n",
      "  -0.05926712-0.12559192j  0.06054645-0.16484681j  0.02240522-0.11112063j]]\n"
     ]
    }
   ],
   "source": [
    "AB=np.kron(A,B)\n",
    "print('Full system:',AB)\n",
    "hAB=np.conj(AB).T\n",
    "print('hAB:',hAB)\n",
    "\n"
   ]
  },
  {
   "cell_type": "code",
   "execution_count": 4,
   "metadata": {},
   "outputs": [],
   "source": [
    "## Using Individual Matrices and Vectors"
   ]
  },
  {
   "cell_type": "code",
   "execution_count": 5,
   "metadata": {},
   "outputs": [
    {
     "name": "stdout",
     "output_type": "stream",
     "text": [
      "Expectation value of z for A is: [0.87404789+0.j]\n"
     ]
    }
   ],
   "source": [
    "## For A\n",
    "\n",
    "ExpZa=np.dot(hA,np.dot(Za,A))\n",
    "print('Expectation value of z for A is:',ExpZa[0])"
   ]
  },
  {
   "cell_type": "code",
   "execution_count": 6,
   "metadata": {},
   "outputs": [
    {
     "name": "stdout",
     "output_type": "stream",
     "text": [
      "Expectation value of z for B is: [0.10219968+0.j]\n"
     ]
    }
   ],
   "source": [
    "## For B\n",
    "\n",
    "ExpZb=np.dot(hB,np.dot(Zb,B))\n",
    "print('Expectation value of z for B is:',ExpZb[0])"
   ]
  },
  {
   "cell_type": "code",
   "execution_count": 7,
   "metadata": {},
   "outputs": [],
   "source": [
    "## Using Full System Vectors and Matrices\n"
   ]
  },
  {
   "cell_type": "code",
   "execution_count": 8,
   "metadata": {},
   "outputs": [
    {
     "name": "stdout",
     "output_type": "stream",
     "text": [
      "Expectation value of z for A is: [0.87404789+0.j]\n"
     ]
    }
   ],
   "source": [
    "## For A\n",
    "\n",
    "ExpZaF=np.dot(hAB,np.dot(ZaF,AB))\n",
    "print('Expectation value of z for A is:',ExpZaF[0])"
   ]
  },
  {
   "cell_type": "code",
   "execution_count": 9,
   "metadata": {},
   "outputs": [
    {
     "name": "stdout",
     "output_type": "stream",
     "text": [
      "Expectation value of z for B is: [0.10219968+0.j]\n"
     ]
    }
   ],
   "source": [
    "## For B\n",
    "\n",
    "ExpZbF=np.dot(hAB,np.dot(ZbF,AB))\n",
    "print('Expectation value of z for B is:',ExpZbF[0])"
   ]
  },
  {
   "cell_type": "markdown",
   "metadata": {},
   "source": [
    "b)"
   ]
  },
  {
   "cell_type": "code",
   "execution_count": 10,
   "metadata": {},
   "outputs": [],
   "source": [
    "EAl=list()\n",
    "EBl=list()\n",
    "hl=list()\n",
    "for h in np.arange(1,10,0.1):\n",
    "    \n",
    "    Ham=np.dot(XaF,XbF)+np.dot(YaF,YbF)+np.dot(ZaF,ZbF)+(h*ZaF)+ZbF\n",
    "    v,w=np.linalg.eigh(Ham)\n",
    "    GS=w[:,0]\n",
    "    hGS=np.conj(GS).T\n",
    "    \n",
    "    EA=np.dot(hGS,np.dot(ZaF,GS))\n",
    "    EAl.append(EA)\n",
    "    \n",
    "    EB=np.dot(hGS,np.dot(ZbF,GS))\n",
    "    EBl.append(EB)\n",
    "    \n",
    "    hl.append(h)\n"
   ]
  },
  {
   "cell_type": "code",
   "execution_count": 11,
   "metadata": {},
   "outputs": [
    {
     "name": "stderr",
     "output_type": "stream",
     "text": [
      "C:\\Users\\Kartikeya Arora\\anaconda3\\lib\\site-packages\\numpy\\core\\_asarray.py:85: ComplexWarning: Casting complex values to real discards the imaginary part\n",
      "  return array(a, dtype, copy=False, order=order)\n"
     ]
    },
    {
     "data": {
      "text/plain": [
       "[<matplotlib.lines.Line2D at 0x2674afa5ca0>]"
      ]
     },
     "execution_count": 11,
     "metadata": {},
     "output_type": "execute_result"
    },
    {
     "data": {
      "image/png": "[encoded data removed]",
      "text/plain": [
       "<Figure size 432x288 with 1 Axes>"
      ]
     },
     "metadata": {
      "needs_background": "light"
     },
     "output_type": "display_data"
    }
   ],
   "source": [
    "##For A\n",
    "plt.plot(hl,EAl)"
   ]
  },
  {
   "cell_type": "code",
   "execution_count": 12,
   "metadata": {},
   "outputs": [
    {
     "data": {
      "text/plain": [
       "[<matplotlib.lines.Line2D at 0x26749871eb0>]"
      ]
     },
     "execution_count": 12,
     "metadata": {},
     "output_type": "execute_result"
    },
    {
     "data": {
      "image/png": "[encoded data removed]",
      "text/plain": [
       "<Figure size 432x288 with 1 Axes>"
      ]
     },
     "metadata": {
      "needs_background": "light"
     },
     "output_type": "display_data"
    }
   ],
   "source": [
    "##For B\n",
    "plt.plot(hl,EBl)\n",
    "    \n"
   ]
  },
  {
   "cell_type": "code",
   "execution_count": null,
   "metadata": {},
   "outputs": [],
   "source": []
  }
 ],
 "metadata": {
  "kernelspec": {
   "display_name": "Python 3",
   "language": "python",
   "name": "python3"
  },
  "language_info": {
   "codemirror_mode": {
    "name": "ipython",
    "version": 3
   },
   "file_extension": ".py",
   "mimetype": "text/x-python",
   "name": "python",
   "nbconvert_exporter": "python",
   "pygments_lexer": "ipython3",
   "version": "3.8.3"
  }
 },
 "nbformat": 4,
 "nbformat_minor": 4
}
