{
 "cells": [
  {
   "cell_type": "markdown",
   "metadata": {},
   "source": [
    "Quimb"
   ]
  },
  {
   "cell_type": "code",
   "execution_count": 80,
   "metadata": {},
   "outputs": [],
   "source": [
    "from quimb import *\n",
    "from quimb.tensor import *\n",
    "import numpy as np"
   ]
  },
  {
   "cell_type": "code",
   "execution_count": 81,
   "metadata": {},
   "outputs": [],
   "source": [
    "H = NNI_ham_heis(4, bz=0.1,cyclic=False)"
   ]
  },
  {
   "cell_type": "code",
   "execution_count": 82,
   "metadata": {},
   "outputs": [],
   "source": [
    "psi0 = MPS_neel_state(4)\n",
    "tebd = TEBD(psi0, H)"
   ]
  },
  {
   "cell_type": "code",
   "execution_count": 83,
   "metadata": {},
   "outputs": [],
   "source": [
    "tebd.split_opts['cutoff'] = 1e-12\n",
    "\n",
    "time=np.arange(1,10,0.1)\n",
    "\n",
    "mzt=[]"
   ]
  },
  {
   "cell_type": "code",
   "execution_count": 84,
   "metadata": {},
   "outputs": [
    {
     "name": "stderr",
     "output_type": "stream",
     "text": [
      "t=9.9, max-bond=4: 100%|###############################################################| 90/90 [00:01<00:00, 68.76it/s]\n"
     ]
    }
   ],
   "source": [
    "for psit in tebd.at_times(time,tol=1e-3):\n",
    "    mz = []\n",
    "    mz += [psit.magnetization(0)]\n",
    "    mzt+=[mz]"
   ]
  },
  {
   "cell_type": "markdown",
   "metadata": {},
   "source": [
    "TenPy TEBD"
   ]
  },
  {
   "cell_type": "code",
   "execution_count": 86,
   "metadata": {},
   "outputs": [],
   "source": [
    "import numpy as np\n",
    "import scipy\n",
    "import matplotlib.pyplot as plt\n",
    "import matplotlib"
   ]
  },
  {
   "cell_type": "code",
   "execution_count": 87,
   "metadata": {},
   "outputs": [],
   "source": [
    "import tenpy\n",
    "import tenpy.linalg.np_conserved as npc\n",
    "from tenpy.algorithms import tebd\n",
    "from tenpy.networks.mps import MPS\n",
    "from tenpy.models.xxz_chain import XXZChain"
   ]
  },
  {
   "cell_type": "code",
   "execution_count": 88,
   "metadata": {},
   "outputs": [
    {
     "name": "stdout",
     "output_type": "stream",
     "text": [
      "Reading 'L'=4 for config XXZChain\n",
      "Reading 'Jxx'=1 for config XXZChain\n",
      "Reading 'Jz'=1 for config XXZChain\n",
      "Reading 'hz'=-0.1 for config XXZChain\n",
      "Reading 'bc_MPS'='finite' for config XXZChain\n"
     ]
    }
   ],
   "source": [
    "L=4\n",
    "model_params={'L':L,'Jxx':1,'Jz':1,'hz':-0.1,'bc_MPS': 'finite'}\n",
    "M =XXZChain(model_params)"
   ]
  },
  {
   "cell_type": "code",
   "execution_count": 89,
   "metadata": {},
   "outputs": [
    {
     "name": "stdout",
     "output_type": "stream",
     "text": [
      "Subconfig 'trunc_params'=Config(<3 options>, 'trunc_params') for config TEBD\n"
     ]
    }
   ],
   "source": [
    "psi=[\"up\", \"down\"] * (L//2)\n",
    "psi = MPS.from_product_state(M.lat.mps_sites(), psi, bc=M.lat.bc_MPS)\n",
    "\n",
    "tebd_params = {\n",
    "    'N_steps': 1,\n",
    "    'dt': 0.1,\n",
    "    'order': 4,\n",
    "    'trunc_params': {'chi_max': 100, 'svd_min': 1.e-12}\n",
    "}\n",
    "eng = tebd.Engine(psi, M, tebd_params)"
   ]
  },
  {
   "cell_type": "code",
   "execution_count": 90,
   "metadata": {},
   "outputs": [],
   "source": [
    "def measurement(eng, data):\n",
    "    keys = ['t', 'Sz']\n",
    "    if data is None:\n",
    "        data = dict([(k, []) for k in keys])\n",
    "    data['t'].append(eng.evolved_time)   \n",
    "    data['Sz'].append(eng.psi.expectation_value('Sz'))\n",
    "    \n",
    "    return data\n"
   ]
  },
  {
   "cell_type": "code",
   "execution_count": 91,
   "metadata": {},
   "outputs": [
    {
     "name": "stdout",
     "output_type": "stream",
     "text": [
      "Reading 'dt'=0.1 for config TEBD\n",
      "Reading 'N_steps'=1 for config TEBD\n",
      "Reading 'order'=4 for config TEBD\n",
      "Calculate U for  {'order': 4, 'delta_t': 0.1, 'type_evo': 'real', 'E_offset': None, 'tau': 0.1}\n",
      "--> time=0.100, max_chi=4, Delta_S=1.7440e-02, S=0.0174402760, since last update: 0.1 s\n",
      "--> time=0.200, max_chi=4, Delta_S=3.8132e-02, S=0.0555721108, since last update: 0.0 s\n",
      "--> time=0.300, max_chi=4, Delta_S=5.0282e-02, S=0.1058542687, since last update: 0.1 s\n",
      "--> time=0.400, max_chi=4, Delta_S=5.7484e-02, S=0.1633385325, since last update: 0.1 s\n",
      "--> time=0.500, max_chi=4, Delta_S=6.1091e-02, S=0.2244294717, since last update: 0.0 s\n",
      "--> time=0.600, max_chi=4, Delta_S=6.1978e-02, S=0.2864073874, since last update: 0.1 s\n",
      "--> time=0.700, max_chi=4, Delta_S=6.0843e-02, S=0.3472502786, since last update: 0.0 s\n",
      "--> time=0.800, max_chi=4, Delta_S=5.8285e-02, S=0.4055350948, since last update: 0.1 s\n",
      "--> time=0.900, max_chi=4, Delta_S=5.4819e-02, S=0.4603543058, since last update: 0.1 s\n",
      "--> time=1.000, max_chi=4, Delta_S=5.0873e-02, S=0.5112271599, since last update: 0.1 s\n",
      "--> time=1.100, max_chi=4, Delta_S=4.6775e-02, S=0.5580025737, since last update: 0.0 s\n",
      "--> time=1.200, max_chi=4, Delta_S=4.2756e-02, S=0.6007590409, since last update: 0.1 s\n",
      "--> time=1.300, max_chi=4, Delta_S=3.8951e-02, S=0.6397102613, since last update: 0.1 s\n",
      "--> time=1.400, max_chi=4, Delta_S=3.5415e-02, S=0.6751248127, since last update: 0.1 s\n",
      "--> time=1.500, max_chi=4, Delta_S=3.2141e-02, S=0.7072653668, since last update: 0.0 s\n",
      "--> time=1.600, max_chi=4, Delta_S=2.9084e-02, S=0.7363492185, since last update: 0.1 s\n",
      "--> time=1.700, max_chi=4, Delta_S=2.6179e-02, S=0.7625286104, since last update: 0.0 s\n",
      "--> time=1.800, max_chi=4, Delta_S=2.3359e-02, S=0.7858873184, since last update: 0.1 s\n",
      "--> time=1.900, max_chi=4, Delta_S=2.0562e-02, S=0.8064493104, since last update: 0.0 s\n",
      "--> time=2.000, max_chi=4, Delta_S=1.7746e-02, S=0.8241956055, since last update: 0.1 s\n",
      "--> time=2.100, max_chi=4, Delta_S=1.4891e-02, S=0.8390861740, since last update: 0.1 s\n",
      "--> time=2.200, max_chi=4, Delta_S=1.1998e-02, S=0.8510843513, since last update: 0.1 s\n",
      "--> time=2.300, max_chi=4, Delta_S=9.0972e-03, S=0.8601815704, since last update: 0.1 s\n",
      "--> time=2.400, max_chi=4, Delta_S=6.2387e-03, S=0.8664202373, since last update: 0.1 s\n",
      "--> time=2.500, max_chi=4, Delta_S=3.4922e-03, S=0.8699124662, since last update: 0.1 s\n",
      "--> time=2.600, max_chi=4, Delta_S=9.3988e-04, S=0.8708523445, since last update: 0.1 s\n",
      "--> time=2.700, max_chi=4, Delta_S=1.3328e-03, S=0.8695195841, since last update: 0.1 s\n",
      "--> time=2.800, max_chi=4, Delta_S=3.2468e-03, S=0.8662728063, since last update: 0.1 s\n",
      "--> time=2.900, max_chi=4, Delta_S=4.7417e-03, S=0.8615311552, since last update: 0.0 s\n",
      "--> time=3.000, max_chi=4, Delta_S=5.7880e-03, S=0.8557431111, since last update: 0.1 s\n",
      "--> time=3.100, max_chi=4, Delta_S=6.4019e-03, S=0.8493411638, since last update: 0.1 s\n",
      "--> time=3.200, max_chi=4, Delta_S=6.6598e-03, S=0.8426813225, since last update: 0.1 s\n",
      "--> time=3.300, max_chi=4, Delta_S=6.7107e-03, S=0.8359706635, since last update: 0.1 s\n",
      "--> time=3.400, max_chi=4, Delta_S=6.7718e-03, S=0.8291988159, since last update: 0.1 s\n",
      "--> time=3.500, max_chi=4, Delta_S=7.0929e-03, S=0.8221058742, since last update: 0.1 s\n",
      "--> time=3.600, max_chi=4, Delta_S=7.8892e-03, S=0.8142166519, since last update: 0.1 s\n",
      "--> time=3.700, max_chi=4, Delta_S=9.2809e-03, S=0.8049357956, since last update: 0.1 s\n",
      "--> time=3.800, max_chi=4, Delta_S=1.1273e-02, S=0.7936632315, since last update: 0.1 s\n",
      "--> time=3.900, max_chi=4, Delta_S=1.3772e-02, S=0.7798917012, since last update: 0.1 s\n",
      "--> time=4.000, max_chi=4, Delta_S=1.6618e-02, S=0.7632734642, since last update: 0.1 s\n",
      "--> time=4.100, max_chi=4, Delta_S=1.9613e-02, S=0.7436609073, since last update: 0.1 s\n",
      "--> time=4.200, max_chi=4, Delta_S=2.2532e-02, S=0.7211293956, since last update: 0.1 s\n",
      "--> time=4.300, max_chi=4, Delta_S=2.5141e-02, S=0.6959881310, since last update: 0.1 s\n",
      "--> time=4.400, max_chi=4, Delta_S=2.7206e-02, S=0.6687819309, since last update: 0.1 s\n",
      "--> time=4.500, max_chi=4, Delta_S=2.8497e-02, S=0.6402853016, since last update: 0.1 s\n",
      "--> time=4.600, max_chi=4, Delta_S=2.8795e-02, S=0.6114899601, since last update: 0.1 s\n",
      "--> time=4.700, max_chi=4, Delta_S=2.7902e-02, S=0.5835882254, since last update: 0.1 s\n",
      "--> time=4.800, max_chi=4, Delta_S=2.5629e-02, S=0.5579589518, since last update: 0.1 s\n",
      "--> time=4.900, max_chi=4, Delta_S=2.1783e-02, S=0.5361756507, since last update: 0.1 s\n",
      "--> time=5.000, max_chi=4, Delta_S=1.6071e-02, S=0.5201044400, since last update: 0.0 s\n",
      "--> time=5.100, max_chi=4, Delta_S=7.7300e-03, S=0.5123744297, since last update: 0.1 s\n",
      "--> time=5.200, max_chi=4, Delta_S=3.6185e-03, S=0.5159928865, since last update: 0.0 s\n",
      "--> time=5.300, max_chi=4, Delta_S=1.2900e-02, S=0.5288929300, since last update: 0.1 s\n",
      "--> time=5.400, max_chi=4, Delta_S=1.9070e-02, S=0.5479629347, since last update: 0.1 s\n",
      "--> time=5.500, max_chi=4, Delta_S=2.3103e-02, S=0.5710658334, since last update: 0.1 s\n",
      "--> time=5.600, max_chi=4, Delta_S=2.5373e-02, S=0.5964389291, since last update: 0.1 s\n",
      "--> time=5.700, max_chi=4, Delta_S=2.6132e-02, S=0.6225711425, since last update: 0.1 s\n",
      "--> time=5.800, max_chi=4, Delta_S=2.5651e-02, S=0.6482217546, since last update: 0.1 s\n",
      "--> time=5.900, max_chi=4, Delta_S=2.4260e-02, S=0.6724815058, since last update: 0.1 s\n",
      "--> time=6.000, max_chi=4, Delta_S=2.2376e-02, S=0.6948574029, since last update: 0.0 s\n",
      "--> time=6.100, max_chi=4, Delta_S=2.0555e-02, S=0.7154123931, since last update: 0.1 s\n",
      "--> time=6.200, max_chi=4, Delta_S=1.9812e-02, S=0.7352241266, since last update: 0.1 s\n",
      "--> time=6.300, max_chi=4, Delta_S=2.1150e-02, S=0.7563740519, since last update: 0.1 s\n",
      "--> time=6.400, max_chi=4, Delta_S=2.1146e-02, S=0.7775203441, since last update: 0.0 s\n",
      "--> time=6.500, max_chi=4, Delta_S=1.9944e-02, S=0.7974640724, since last update: 0.1 s\n",
      "--> time=6.600, max_chi=4, Delta_S=1.8068e-02, S=0.8155323507, since last update: 0.1 s\n",
      "--> time=6.700, max_chi=4, Delta_S=1.5689e-02, S=0.8312210521, since last update: 0.1 s\n",
      "--> time=6.800, max_chi=4, Delta_S=1.2904e-02, S=0.8441253112, since last update: 0.1 s\n",
      "--> time=6.900, max_chi=4, Delta_S=9.7985e-03, S=0.8539237629, since last update: 0.1 s\n",
      "--> time=7.000, max_chi=4, Delta_S=6.4562e-03, S=0.8603799795, since last update: 0.1 s\n",
      "--> time=7.100, max_chi=4, Delta_S=2.9699e-03, S=0.8633499007, since last update: 0.1 s\n",
      "--> time=7.200, max_chi=4, Delta_S=5.5953e-04, S=0.8627903659, since last update: 0.1 s\n",
      "--> time=7.300, max_chi=4, Delta_S=4.0241e-03, S=0.8587662791, since last update: 0.1 s\n",
      "--> time=7.400, max_chi=4, Delta_S=7.3111e-03, S=0.8514551421, since last update: 0.1 s\n",
      "--> time=7.500, max_chi=4, Delta_S=1.0307e-02, S=0.8411483665, since last update: 0.1 s\n",
      "--> time=7.600, max_chi=4, Delta_S=1.2899e-02, S=0.8282491681, since last update: 0.1 s\n",
      "--> time=7.700, max_chi=4, Delta_S=1.4982e-02, S=0.8132671175, since last update: 0.1 s\n",
      "--> time=7.800, max_chi=4, Delta_S=1.6457e-02, S=0.7968096982, since last update: 0.1 s\n",
      "--> time=7.900, max_chi=4, Delta_S=1.7238e-02, S=0.7795716334, since last update: 0.1 s\n",
      "--> time=8.000, max_chi=4, Delta_S=1.7248e-02, S=0.7623234166, since last update: 0.1 s\n",
      "--> time=8.100, max_chi=4, Delta_S=1.6422e-02, S=0.7459014339, since last update: 0.1 s\n",
      "--> time=8.200, max_chi=4, Delta_S=1.4699e-02, S=0.7312021605, since last update: 0.1 s\n",
      "--> time=8.300, max_chi=4, Delta_S=1.2029e-02, S=0.7191726650, since last update: 0.1 s\n",
      "--> time=8.400, max_chi=4, Delta_S=8.4491e-03, S=0.7107235273, since last update: 0.1 s\n",
      "--> time=8.500, max_chi=4, Delta_S=4.3579e-03, S=0.7063655892, since last update: 0.1 s\n",
      "--> time=8.600, max_chi=4, Delta_S=5.7519e-04, S=0.7057903951, since last update: 0.1 s\n",
      "--> time=8.700, max_chi=4, Delta_S=2.3564e-03, S=0.7081467514, since last update: 0.1 s\n",
      "--> time=8.800, max_chi=4, Delta_S=4.3825e-03, S=0.7125292936, since last update: 0.1 s\n",
      "--> time=8.900, max_chi=4, Delta_S=5.6024e-03, S=0.7181316854, since last update: 0.1 s\n",
      "--> time=9.000, max_chi=4, Delta_S=6.1331e-03, S=0.7242647546, since last update: 0.1 s\n",
      "--> time=9.100, max_chi=4, Delta_S=6.1018e-03, S=0.7303665671, since last update: 0.1 s\n"
     ]
    },
    {
     "name": "stdout",
     "output_type": "stream",
     "text": [
      "--> time=9.200, max_chi=4, Delta_S=5.6421e-03, S=0.7360087166, since last update: 0.1 s\n",
      "--> time=9.300, max_chi=4, Delta_S=4.8825e-03, S=0.7408912378, since last update: 0.1 s\n",
      "--> time=9.400, max_chi=4, Delta_S=3.9369e-03, S=0.7448281360, since last update: 0.1 s\n",
      "--> time=9.500, max_chi=4, Delta_S=2.9014e-03, S=0.7477295519, since last update: 0.1 s\n",
      "--> time=9.600, max_chi=4, Delta_S=1.8558e-03, S=0.7495853180, since last update: 0.1 s\n",
      "--> time=9.700, max_chi=4, Delta_S=8.6657e-04, S=0.7504518909, since last update: 0.1 s\n",
      "--> time=9.800, max_chi=4, Delta_S=9.5445e-06, S=0.7504423464, since last update: 0.1 s\n",
      "--> time=9.900, max_chi=4, Delta_S=7.2446e-04, S=0.7497178868, since last update: 0.1 s\n",
      "--> time=10.000, max_chi=4, Delta_S=1.2388e-03, S=0.7484790624, since last update: 0.1 s\n",
      "--> time=10.100, max_chi=4, Delta_S=1.5238e-03, S=0.7469553079, since last update: 0.1 s\n"
     ]
    }
   ],
   "source": [
    "data = measurement(eng, None)\n",
    "while eng.evolved_time < 10.:\n",
    "    eng.run()\n",
    "    measurement(eng, data)"
   ]
  },
  {
   "cell_type": "code",
   "execution_count": 92,
   "metadata": {},
   "outputs": [],
   "source": [
    "sz=data['Sz']\n",
    "z=[]\n",
    "for x in sz:\n",
    "    z.append(x[0])\n",
    "   "
   ]
  },
  {
   "cell_type": "code",
   "execution_count": 93,
   "metadata": {},
   "outputs": [
    {
     "name": "stdout",
     "output_type": "stream",
     "text": [
      "Enter No. of Particles:4\n"
     ]
    }
   ],
   "source": [
    "import quimb as qu\n",
    "L=int(input('Enter No. of Particles:'))\n",
    "H = qu.ham_heis(L,b=(0,0,0.1),sparse=True,cyclic=False)\n",
    "\n",
    "u=qu.up(sparse=True)\n",
    "d=qu.down(sparse=True)    \n",
    "r=np.array([1])\n",
    "S_i=qu.qu(r,qtype='ket',sparse=True)\n",
    "for l in range(L):\n",
    "    if l%2==0:\n",
    "        S_i=qu.kron(S_i,u)\n",
    "    else:\n",
    "        S_i=qu.kron(S_i,d)\n",
    "  \n",
    "\n",
    "GS=qu.qu(qu.groundstate(H),sparse=True)\n",
    "Sz0=qu.ikron(qu.spin_operator('z'),[2]*L , inds=[0])\n",
    "el=list()\n",
    "evo=qu.Evolution(S_i,H)\n",
    "for pt in evo.at_times(np.arange(0,10,0.1)):\n",
    "    e=qu.expec(pt,Sz0)\n",
    "    el.append(e)   "
   ]
  },
  {
   "cell_type": "code",
   "execution_count": 95,
   "metadata": {},
   "outputs": [
    {
     "data": {
      "text/plain": [
       "<matplotlib.legend.Legend at 0x16d1b89cfd0>"
      ]
     },
     "execution_count": 95,
     "metadata": {},
     "output_type": "execute_result"
    },
    {
     "data": {
      "image/png": "[encoded data removed]",
      "text/plain": [
       "<Figure size 432x288 with 1 Axes>"
      ]
     },
     "metadata": {
      "needs_background": "light"
     },
     "output_type": "display_data"
    }
   ],
   "source": [
    "plt.plot(data['t'], z)\n",
    "plt.scatter(np.arange(0,10,0.1),el,color='orange',s=40)\n",
    "plt.scatter(time,mzt,marker='^',color='red',s=30)\n",
    "plt.legend([\"Tenpy\", \"ED\",\"Quimb\"], loc =\"lower right\")"
   ]
  },
  {
   "cell_type": "code",
   "execution_count": null,
   "metadata": {},
   "outputs": [],
   "source": []
  }
 ],
 "metadata": {
  "kernelspec": {
   "display_name": "Python 3",
   "language": "python",
   "name": "python3"
  },
  "language_info": {
   "codemirror_mode": {
    "name": "ipython",
    "version": 3
   },
   "file_extension": ".py",
   "mimetype": "text/x-python",
   "name": "python",
   "nbconvert_exporter": "python",
   "pygments_lexer": "ipython3",
   "version": "3.8.3"
  }
 },
 "nbformat": 4,
 "nbformat_minor": 4
}
