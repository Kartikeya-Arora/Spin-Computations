{
 "cells": [
  {
   "cell_type": "markdown",
   "metadata": {},
   "source": [
    "DMRG"
   ]
  },
  {
   "cell_type": "code",
   "execution_count": 5,
   "metadata": {},
   "outputs": [
    {
     "name": "stdout",
     "output_type": "stream",
     "text": [
      "After sweep 1 energy=-8.605141830654 maxlinkdim=4 maxerr=0.00E+00 time=0.014\n",
      "After sweep 2 energy=-8.681922609870 maxlinkdim=16 maxerr=0.00E+00 time=0.020\n",
      "After sweep 3 energy=-8.682473323658 maxlinkdim=64 maxerr=0.00E+00 time=0.178\n",
      "After sweep 4 energy=-8.682473334399 maxlinkdim=100 maxerr=9.85E-17 time=0.810\n",
      "After sweep 5 energy=-8.682473334399 maxlinkdim=200 maxerr=2.80E-22 time=2.080\n"
     ]
    },
    {
     "data": {
      "text/plain": [
       "(-8.68247333439897, MPS\n",
       "[1] IndexSet{2} (dim=2|id=693|\"S=1/2,Site,n=1\") (dim=2|id=858|\"Link,l=1\")\n",
       "[2] IndexSet{3} (dim=2|id=841|\"S=1/2,Site,n=2\") (dim=4|id=609|\"Link,l=2\") (dim=2|id=858|\"Link,l=1\")\n",
       "[3] IndexSet{3} (dim=2|id=341|\"S=1/2,Site,n=3\") (dim=8|id=537|\"Link,l=3\") (dim=4|id=609|\"Link,l=2\")\n",
       "[4] IndexSet{3} (dim=2|id=994|\"S=1/2,Site,n=4\") (dim=16|id=427|\"Link,l=4\") (dim=8|id=537|\"Link,l=3\")\n",
       "[5] IndexSet{3} (dim=2|id=293|\"S=1/2,Site,n=5\") (dim=32|id=980|\"Link,l=5\") (dim=16|id=427|\"Link,l=4\")\n",
       "[6] IndexSet{3} (dim=2|id=710|\"S=1/2,Site,n=6\") (dim=64|id=987|\"Link,l=6\") (dim=32|id=980|\"Link,l=5\")\n",
       "[7] IndexSet{3} (dim=2|id=147|\"S=1/2,Site,n=7\") (dim=128|id=241|\"Link,l=7\") (dim=64|id=987|\"Link,l=6\")\n",
       "[8] IndexSet{3} (dim=2|id=492|\"S=1/2,Site,n=8\") (dim=200|id=10|\"Link,l=8\") (dim=128|id=241|\"Link,l=7\")\n",
       "[9] IndexSet{3} (dim=2|id=689|\"S=1/2,Site,n=9\") (dim=200|id=358|\"Link,l=9\") (dim=200|id=10|\"Link,l=8\")\n",
       "[10] IndexSet{3} (dim=2|id=625|\"S=1/2,Site,n=10\") (dim=200|id=971|\"Link,l=10\") (dim=200|id=358|\"Link,l=9\")\n",
       "[11] IndexSet{3} (dim=2|id=21|\"S=1/2,Site,n=11\") (dim=200|id=547|\"Link,l=11\") (dim=200|id=971|\"Link,l=10\")\n",
       "[12] IndexSet{3} (dim=2|id=153|\"S=1/2,Site,n=12\") (dim=200|id=159|\"Link,l=12\") (dim=200|id=547|\"Link,l=11\")\n",
       "[13] IndexSet{3} (dim=2|id=714|\"S=1/2,Site,n=13\") (dim=128|id=409|\"Link,l=13\") (dim=200|id=159|\"Link,l=12\")\n",
       "[14] IndexSet{3} (dim=2|id=277|\"S=1/2,Site,n=14\") (dim=64|id=396|\"Link,l=14\") (dim=128|id=409|\"Link,l=13\")\n",
       "[15] IndexSet{3} (dim=2|id=212|\"S=1/2,Site,n=15\") (dim=32|id=872|\"Link,l=15\") (dim=64|id=396|\"Link,l=14\")\n",
       "[16] IndexSet{3} (dim=2|id=571|\"S=1/2,Site,n=16\") (dim=16|id=596|\"Link,l=16\") (dim=32|id=872|\"Link,l=15\")\n",
       "[17] IndexSet{3} (dim=2|id=3|\"S=1/2,Site,n=17\") (dim=8|id=150|\"Link,l=17\") (dim=16|id=596|\"Link,l=16\")\n",
       "[18] IndexSet{3} (dim=2|id=286|\"S=1/2,Site,n=18\") (dim=4|id=23|\"Link,l=18\") (dim=8|id=150|\"Link,l=17\")\n",
       "[19] IndexSet{3} (dim=2|id=605|\"S=1/2,Site,n=19\") (dim=2|id=952|\"Link,l=19\") (dim=4|id=23|\"Link,l=18\")\n",
       "[20] IndexSet{2} (dim=2|id=180|\"S=1/2,Site,n=20\") (dim=2|id=952|\"Link,l=19\")\n",
       ")"
      ]
     },
     "execution_count": 5,
     "metadata": {},
     "output_type": "execute_result"
    }
   ],
   "source": [
    "using ITensors\n",
    "\n",
    "N = 20\n",
    "sites = siteinds(\"S=1/2\",N)\n",
    "\n",
    "ampo = AutoMPO()\n",
    "for j = 1:N-1\n",
    "  ampo += 0.5,\"S+\",j,\"S-\",j+1\n",
    "  ampo += 0.5,\"S-\",j,\"S+\",j+1\n",
    "  ampo +=     \"Sz\",j,\"Sz\",j+1\n",
    "end\n",
    "\n",
    "H = MPO(ampo,sites)\n",
    "\n",
    "state = [isodd(n) ? \"Up\" : \"Dn\" for n in 1:N]\n",
    "psi0 = productMPS(sites,state)\n",
    "\n",
    "sweeps = Sweeps(5)\n",
    "maxdim!(sweeps,50,50,100,100,200)\n",
    "\n",
    "energy,psi = dmrg(H,psi0,sweeps)"
   ]
  },
  {
   "cell_type": "code",
   "execution_count": 6,
   "metadata": {},
   "outputs": [
    {
     "data": {
      "text/plain": [
       "-8.68247333439897"
      ]
     },
     "execution_count": 6,
     "metadata": {},
     "output_type": "execute_result"
    }
   ],
   "source": [
    "energy"
   ]
  },
  {
   "cell_type": "markdown",
   "metadata": {},
   "source": [
    "Time Evolution"
   ]
  },
  {
   "cell_type": "code",
   "execution_count": 14,
   "metadata": {},
   "outputs": [],
   "source": [
    "using ITensors\n",
    "\n",
    "N = 4\n",
    "cutoff = 1E-8\n",
    "tau = 0.1\n",
    "ttotal = 10.0\n",
    "\n",
    "Nsteps = Int(ttotal/tau)\n",
    "\n",
    "s = siteinds(\"S=1/2\",N)\n",
    "\n",
    "gates = ITensor[]\n",
    "\n",
    "for j=1:N-1\n",
    "    s1 = s[j]\n",
    "    s2 = s[j+1]\n",
    "    hj =op(\"Sz\",s1) * op(\"Sz\",s2) +\n",
    "         1/2 * op(\"S+\",s1) * op(\"S-\",s2) +\n",
    "         1/2 * op(\"S-\",s1) * op(\"S+\",s2)\n",
    "        \n",
    "    Gj = exp(-1.0im * tau/2 * hj)\n",
    "    push!(gates,Gj)\n",
    "end\n",
    "\n"
   ]
  },
  {
   "cell_type": "code",
   "execution_count": 15,
   "metadata": {},
   "outputs": [
    {
     "data": {
      "text/plain": [
       "Vector{ITensor} (alias for Array{ITensor, 1})"
      ]
     },
     "execution_count": 15,
     "metadata": {},
     "output_type": "execute_result"
    }
   ],
   "source": []
  },
  {
   "cell_type": "code",
   "execution_count": null,
   "metadata": {},
   "outputs": [],
   "source": []
  }
 ],
 "metadata": {
  "kernelspec": {
   "display_name": "Julia 1.6.0",
   "language": "julia",
   "name": "julia-1.6"
  },
  "language_info": {
   "file_extension": ".jl",
   "mimetype": "application/julia",
   "name": "julia",
   "version": "1.6.0"
  }
 },
 "nbformat": 4,
 "nbformat_minor": 4
}
