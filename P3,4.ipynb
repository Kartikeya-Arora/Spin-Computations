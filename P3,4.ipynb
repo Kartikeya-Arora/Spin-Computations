{
 "cells": [
  {
   "cell_type": "code",
   "execution_count": 59,
   "metadata": {},
   "outputs": [],
   "source": [
    "import numpy as np\n",
    "import matplotlib.pyplot as plt\n",
    "import quimb as qu"
   ]
  },
  {
   "cell_type": "code",
   "execution_count": 60,
   "metadata": {},
   "outputs": [],
   "source": [
    "Z=qu.pauli('Z')"
   ]
  },
  {
   "cell_type": "code",
   "execution_count": 61,
   "metadata": {},
   "outputs": [],
   "source": [
    "def op(L):\n",
    "    a=0\n",
    "    for i in range(L):\n",
    "        a=a+(np.kron(np.eye(2**i),np.kron(Z,np.eye(2**(L-1-i)))))\n",
    "    return(a)\n",
    "    \n",
    "def mag(L):\n",
    "    m=[]\n",
    "    I=np.eye(2**L)\n",
    "    for x in range(2**L):\n",
    "        psi=I[:,x]\n",
    "        mg=np.dot(np.transpose(psi),np.dot(op(L),psi))\n",
    "        m.append(mg)\n",
    "    l=[-1*i for i in m]\n",
    "    x=np.argsort(l)\n",
    "    return(x)     \n",
    "\n",
    "\n",
    "def P1(L):\n",
    "    arr=np.eye(2**L)\n",
    "    p1=np.zeros((2**L,2**L))\n",
    "    x=mag(L)\n",
    "    for i in range(len(x)):\n",
    "        p1[i,:]=arr[x[i],:]\n",
    "    return(p1)\n",
    "\n",
    "def P2(magnetization,L):\n",
    "    mlist=[]\n",
    "    I=np.eye(2**L)\n",
    "    for x in range(2**L):\n",
    "        psi=I[:,x]\n",
    "        psi=psi.reshape((2**L,1))\n",
    "        mg=np.dot(np.transpose(psi),np.dot(op(L),psi))\n",
    "        if mg==magnetization:\n",
    "            mlist.append(psi)\n",
    "    mlist2=[np.transpose(psi) for psi in mlist]\n",
    "    \n",
    "    mlistf=[np.dot(mlist[i],mlist2[i]) for i in range(len(mlist))]\n",
    "        \n",
    "    p2=sum(mlistf)\n",
    "    \n",
    "    return(p2)\n",
    "    \n",
    "    "
   ]
  },
  {
   "cell_type": "code",
   "execution_count": 62,
   "metadata": {},
   "outputs": [],
   "source": [
    "L=3\n",
    "magnetization=1"
   ]
  },
  {
   "cell_type": "code",
   "execution_count": 63,
   "metadata": {},
   "outputs": [],
   "source": [
    "p1=P1(L)\n",
    "p1t=np.transpose(p1)\n",
    "\n",
    "p2=P2(magnetization,L)\n",
    "p2t=np.transpose(p2)\n",
    "\n",
    "H=qu.ham_heis(L,j=1,b=0,cyclic=False)\n",
    "\n",
    "\n",
    "M=np.dot(p1,np.dot(p2,np.dot(H,np.dot(p2t,p1t))))"
   ]
  },
  {
   "cell_type": "code",
   "execution_count": 64,
   "metadata": {},
   "outputs": [
    {
     "data": {
      "text/plain": [
       "<matplotlib.colorbar.Colorbar at 0x1d3c5130dc0>"
      ]
     },
     "execution_count": 64,
     "metadata": {},
     "output_type": "execute_result"
    },
    {
     "data": {
      "image/png": "[encoded data removed]",
      "text/plain": [
       "<Figure size 432x288 with 2 Axes>"
      ]
     },
     "metadata": {
      "needs_background": "light"
     },
     "output_type": "display_data"
    }
   ],
   "source": [
    "plt.pcolormesh(M)\n",
    "plt.colorbar()"
   ]
  },
  {
   "cell_type": "code",
   "execution_count": null,
   "metadata": {},
   "outputs": [],
   "source": []
  },
  {
   "cell_type": "code",
   "execution_count": null,
   "metadata": {},
   "outputs": [],
   "source": []
  }
 ],
 "metadata": {
  "kernelspec": {
   "display_name": "Python 3",
   "language": "python",
   "name": "python3"
  },
  "language_info": {
   "codemirror_mode": {
    "name": "ipython",
    "version": 3
   },
   "file_extension": ".py",
   "mimetype": "text/x-python",
   "name": "python",
   "nbconvert_exporter": "python",
   "pygments_lexer": "ipython3",
   "version": "3.8.3"
  }
 },
 "nbformat": 4,
 "nbformat_minor": 4
}
