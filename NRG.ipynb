{
 "cells": [
  {
   "cell_type": "code",
   "execution_count": 1,
   "metadata": {},
   "outputs": [],
   "source": [
    "import numpy as np\n",
    "import quimb as qu"
   ]
  },
  {
   "cell_type": "code",
   "execution_count": 2,
   "metadata": {},
   "outputs": [],
   "source": [
    "def S(a,i):\n",
    "    return((np.kron(np.eye((2**(i-1))),a)))\n",
    "def H(i):\n",
    "    if i==2:\n",
    "        h=np.kron(Z,Z)+0.5*(np.kron(P,M)+np.kron(M,P))\n",
    "    else:\n",
    "        h=np.kron(H(i-1),I)+np.kron(S(Z,i-1),Z)+0.5*(np.kron(S(P,i-1),M)+np.kron(S(M,i-1),P))\n",
    "    return(h)    \n",
    "def G(h):\n",
    "    v,w=np.linalg.eigh(h)\n",
    "    g=w[:,0]\n",
    "    hg=np.conj(g).T\n",
    "    m=(np.dot(hg,np.dot(np.kron(Z,np.eye((2**(L-1)))),g)))\n",
    "    return(m)"
   ]
  },
  {
   "cell_type": "code",
   "execution_count": 3,
   "metadata": {},
   "outputs": [],
   "source": [
    "X =0.5*np.array([[0,1],[1,0]])\n",
    "Y =0.5*np.array([[0,0-1.j],[0+1.j,0]])\n",
    "Z =0.5*np.array([[1,0],[0,-1]])\n",
    "I=np.eye(2)\n",
    "P=np.array([[0,1],[0,0]])\n",
    "M=np.array([[0,0],[1,0]])"
   ]
  },
  {
   "cell_type": "code",
   "execution_count": 10,
   "metadata": {},
   "outputs": [],
   "source": [
    "L=50"
   ]
  },
  {
   "cell_type": "code",
   "execution_count": 11,
   "metadata": {},
   "outputs": [],
   "source": [
    "if L<6:\n",
    "    print('Magnetization:',G(H(L)))"
   ]
  },
  {
   "cell_type": "code",
   "execution_count": 12,
   "metadata": {},
   "outputs": [
    {
     "name": "stdout",
     "output_type": "stream",
     "text": [
      "Magnetization: -0.015144339759239395\n"
     ]
    }
   ],
   "source": [
    "Hi=H(6)\n",
    "Sp=S(P,5)\n",
    "Sm=S(M,5)\n",
    "Sz=S(Z,5)\n",
    "O=np.kron(Z,np.eye(16))\n",
    "if L>=6:\n",
    "    for i in range(6,L+1):\n",
    "        v,w=np.linalg.eigh(Hi)\n",
    "        U=w[:,0:32]\n",
    "        Ut=np.transpose(U)\n",
    "        Hi=np.dot(Ut,np.dot(Hi,U))\n",
    "        Sp=np.kron(I,Sp)\n",
    "        Sm=np.kron(I,Sm)\n",
    "        Sz=np.kron(I,Sz)\n",
    "        O=np.kron(O,I)\n",
    "        Sp=np.dot(Ut,np.dot(Sp,U))\n",
    "        Sm=np.dot(Ut,np.dot(Sm,U))\n",
    "        Sz=np.dot(Ut,np.dot(Sz,U))\n",
    "        O=np.dot(Ut,np.dot(O,U))\n",
    "        if i==L:\n",
    "            break\n",
    "        \n",
    "        Hi=np.kron(Hi,I)+np.kron(Sz,Z)+0.5*(np.kron(Sp,M)+np.kron(Sm,P))\n",
    "    \n",
    "    \n",
    "    v,w=np.linalg.eigh(Hi)    \n",
    "    g=w[:,0]\n",
    "    hg=np.conj(g).T\n",
    "    m=np.dot(hg,np.dot(O,g))\n",
    "    print(\"Magnetization:\",m)\n",
    "   "
   ]
  },
  {
   "cell_type": "markdown",
   "metadata": {},
   "source": [
    "Using Quimb"
   ]
  },
  {
   "cell_type": "code",
   "execution_count": 13,
   "metadata": {},
   "outputs": [],
   "source": [
    "def Hq(i):\n",
    "    return(qu.ham_heis(i,j=1,b=0,cyclic=False))\n",
    "\n",
    "def Gq(h):\n",
    "    return(qu.expec(qu.groundstate(h),qu.ikron(qu.spin_operator('Z'),[2]*L,0)))"
   ]
  },
  {
   "cell_type": "code",
   "execution_count": 14,
   "metadata": {},
   "outputs": [],
   "source": [
    "if L<6:\n",
    "    print('Magq:',Gq(Hq(L)))"
   ]
  },
  {
   "cell_type": "code",
   "execution_count": 16,
   "metadata": {},
   "outputs": [
    {
     "name": "stdout",
     "output_type": "stream",
     "text": [
      "Magnetization: -0.018359725525912158\n"
     ]
    }
   ],
   "source": [
    "Hi=Hq(6)\n",
    "Sp=qu.ikron(P,[2]*5,4)\n",
    "Sm=qu.ikron(M,[2]*5,4)\n",
    "Sz=qu.ikron(Z,[2]*5,4)\n",
    "O=qu.ikron(Z,[2]*5,0)\n",
    "if L>=6:\n",
    "    for i in range(6,L+1):\n",
    "        v,w=qu.eigh(Hi)\n",
    "        U=w[:,0:32]\n",
    "        Ut=np.transpose(U)\n",
    "        Hi=Ut@Hi@U\n",
    "        Sp=qu.kron(I,Sp)\n",
    "        Sm=qu.kron(I,Sm)\n",
    "        Sz=qu.kron(I,Sz)\n",
    "        O=qu.kron(O,I)\n",
    "        Sp=Ut@Sp@U\n",
    "        Sm=Ut@Sm@U\n",
    "        Sz=Ut@Sz@U\n",
    "        O=Ut@O@U\n",
    "        if i==L:\n",
    "            break\n",
    "        \n",
    "        Hi=qu.kron(Hi,I)+qu.kron(Sz,Z)+0.5*(qu.kron(Sp,M)+qu.kron(Sm,P))\n",
    "    \n",
    "    \n",
    "    v,w=qu.eigh(Hi)    \n",
    "    g=w[:,0]\n",
    "    m=qu.expec(O,g)\n",
    "    print(\"Magnetization:\",m)"
   ]
  },
  {
   "cell_type": "code",
   "execution_count": null,
   "metadata": {},
   "outputs": [],
   "source": []
  },
  {
   "cell_type": "code",
   "execution_count": null,
   "metadata": {},
   "outputs": [],
   "source": []
  },
  {
   "cell_type": "code",
   "execution_count": null,
   "metadata": {},
   "outputs": [],
   "source": []
  },
  {
   "cell_type": "code",
   "execution_count": null,
   "metadata": {},
   "outputs": [],
   "source": []
  },
  {
   "cell_type": "code",
   "execution_count": null,
   "metadata": {},
   "outputs": [],
   "source": []
  }
 ],
 "metadata": {
  "kernelspec": {
   "display_name": "Python 3",
   "language": "python",
   "name": "python3"
  },
  "language_info": {
   "codemirror_mode": {
    "name": "ipython",
    "version": 3
   },
   "file_extension": ".py",
   "mimetype": "text/x-python",
   "name": "python",
   "nbconvert_exporter": "python",
   "pygments_lexer": "ipython3",
   "version": "3.8.3"
  }
 },
 "nbformat": 4,
 "nbformat_minor": 4
}
