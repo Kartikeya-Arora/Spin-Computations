{
 "cells": [
  {
   "cell_type": "markdown",
   "metadata": {},
   "source": [
    "a)"
   ]
  },
  {
   "cell_type": "code",
   "execution_count": 3,
   "metadata": {},
   "outputs": [
    {
     "name": "stdout",
     "output_type": "stream",
     "text": [
      "[[0 1 0]\n",
      " [1 0 1]\n",
      " [0 1 0]]\n",
      "\n",
      "[[ 0.+0.j -0.-1.j  0.+0.j]\n",
      " [ 0.+1.j  0.+0.j -0.-1.j]\n",
      " [ 0.+0.j  0.+1.j  0.+0.j]]\n",
      "\n",
      "[[ 1  0  0]\n",
      " [ 0  0  0]\n",
      " [ 0  0 -1]]\n"
     ]
    }
   ],
   "source": [
    "import numpy as np\n",
    "import random\n",
    "import matplotlib.pyplot as plt\n",
    "\n",
    "hbar=1\n",
    "X =np.array([[0,1,0],[1,0,1],[0,1,0]])\n",
    "Y =np.array([[0,-1.j,0],[0+1.j,0,-1.j],[0,1.j,0]])\n",
    "Z =np.array([[1,0,0],[0,0,0],[0,0,-1]])\n",
    "print(X)\n",
    "print()\n",
    "print(Y)\n",
    "print()\n",
    "print(Z)"
   ]
  },
  {
   "cell_type": "code",
   "execution_count": 4,
   "metadata": {},
   "outputs": [],
   "source": [
    "x = random.random()\n",
    "y = random.random()\n",
    "z = random.random()"
   ]
  },
  {
   "cell_type": "code",
   "execution_count": 5,
   "metadata": {},
   "outputs": [
    {
     "name": "stdout",
     "output_type": "stream",
     "text": [
      "[[ 0.93382632+0.j          0.80933601-0.16564186j  0.        +0.j        ]\n",
      " [ 0.80933601+0.16564186j  0.        +0.j          0.80933601-0.16564186j]\n",
      " [ 0.        +0.j          0.80933601+0.16564186j -0.93382632+0.j        ]]\n"
     ]
    }
   ],
   "source": [
    "H=(x*X)+(y*Y)+(z*Z)\n",
    "print(H)"
   ]
  },
  {
   "cell_type": "code",
   "execution_count": 7,
   "metadata": {},
   "outputs": [
    {
     "name": "stdout",
     "output_type": "stream",
     "text": [
      "[-1.49564555e+00  1.76941795e-16  1.49564555e+00]\n",
      "[[-0.18781831+0.j         -0.55234516-0.j          0.81218169+0.j        ]\n",
      " [ 0.54112822+0.11074941j  0.61168391+0.12518961j  0.54112822+0.11074941j]\n",
      " [-0.74687692-0.319083j    0.50793297+0.21700065j  0.17271648+0.07378845j]]\n"
     ]
    }
   ],
   "source": [
    "v,w=np.linalg.eigh(H)\n",
    "print(v)\n",
    "print(w)"
   ]
  },
  {
   "cell_type": "code",
   "execution_count": 9,
   "metadata": {},
   "outputs": [
    {
     "name": "stdout",
     "output_type": "stream",
     "text": [
      "psi= [[-0.18781831+0.j        ]\n",
      " [ 0.54112822+0.11074941j]\n",
      " [-0.74687692-0.319083j  ]]\n",
      "hpsi= [-0.18781831-0.j          0.54112822-0.11074941j -0.74687692+0.319083j  ]\n"
     ]
    }
   ],
   "source": [
    "p=np.array(w[:,0]) \n",
    "psi=p.reshape(3,1)\n",
    "print('psi=',psi)\n",
    "hpsi=p.conj()\n",
    "print('hpsi=',hpsi)"
   ]
  },
  {
   "cell_type": "code",
   "execution_count": 11,
   "metadata": {},
   "outputs": [],
   "source": [
    "M1=np.dot(hpsi,np.dot(X,psi))\n",
    "M2=np.dot(hpsi,np.dot(Y,psi))\n",
    "M3=np.dot(hpsi,np.dot(Z,psi))"
   ]
  },
  {
   "cell_type": "code",
   "execution_count": 12,
   "metadata": {},
   "outputs": [
    {
     "name": "stdout",
     "output_type": "stream",
     "text": [
      "Mx= [-1.08225644+0.j]\n",
      "My= [-0.22149881-1.39567152e-17j]\n",
      "Mz= [-0.62436339+0.j]\n"
     ]
    }
   ],
   "source": [
    "print('Mx=',M1)\n",
    "print('My=',M2)\n",
    "print('Mz=',M3)"
   ]
  },
  {
   "cell_type": "markdown",
   "metadata": {},
   "source": [
    "b)"
   ]
  },
  {
   "cell_type": "code",
   "execution_count": 15,
   "metadata": {},
   "outputs": [],
   "source": [
    "lz=list()\n",
    "l1=list()\n",
    "l2=list()\n",
    "l3=list()\n",
    "zr=np.arange(0,1,0.1)\n",
    "\n",
    "\n",
    "for i in zr:\n",
    "    z = random.random()\n",
    "    H=(x*X)+(y*Y)+(z*Z)\n",
    "   \n",
    "    v,w=np.linalg.eigh(H)    \n",
    "    p=np.array(w[:,0]) \n",
    "    psi=p.reshape(3,1)  \n",
    "    hpsi=p.conj()\n",
    "    \n",
    "    M1=np.dot(hpsi,np.dot(X,psi))\n",
    "    M2=np.dot(hpsi,np.dot(Y,psi))\n",
    "    M3=np.dot(hpsi,np.dot(Z,psi))\n",
    "    lz.append(z)\n",
    "    l1.append(M1[0])\n",
    "    l2.append(M2[0])\n",
    "    l3.append(M3[0])"
   ]
  },
  {
   "cell_type": "code",
   "execution_count": 17,
   "metadata": {},
   "outputs": [
    {
     "name": "stderr",
     "output_type": "stream",
     "text": [
      "C:\\Users\\Kartikeya Arora\\anaconda3\\lib\\site-packages\\numpy\\core\\_asarray.py:85: ComplexWarning: Casting complex values to real discards the imaginary part\n",
      "  return array(a, dtype, copy=False, order=order)\n"
     ]
    },
    {
     "data": {
      "text/plain": [
       "Text(0, 0.5, 'Mx')"
      ]
     },
     "execution_count": 17,
     "metadata": {},
     "output_type": "execute_result"
    },
    {
     "data": {
      "image/png": "[encoded data removed]",
      "text/plain": [
       "<Figure size 432x288 with 1 Axes>"
      ]
     },
     "metadata": {
      "needs_background": "light"
     },
     "output_type": "display_data"
    }
   ],
   "source": [
    "## for Mx\n",
    "plt.plot(lz,l1)\n",
    "plt.xlabel('Bz')\n",
    "plt.ylabel('Mx')"
   ]
  },
  {
   "cell_type": "code",
   "execution_count": 18,
   "metadata": {},
   "outputs": [
    {
     "data": {
      "text/plain": [
       "Text(0, 0.5, 'My')"
      ]
     },
     "execution_count": 18,
     "metadata": {},
     "output_type": "execute_result"
    },
    {
     "data": {
      "image/png": "[encoded data removed]",
      "text/plain": [
       "<Figure size 432x288 with 1 Axes>"
      ]
     },
     "metadata": {
      "needs_background": "light"
     },
     "output_type": "display_data"
    }
   ],
   "source": [
    "## for My\n",
    "plt.plot(lz,l2)\n",
    "plt.xlabel('Bz')\n",
    "plt.ylabel('My')"
   ]
  },
  {
   "cell_type": "code",
   "execution_count": 19,
   "metadata": {},
   "outputs": [
    {
     "data": {
      "text/plain": [
       "Text(0, 0.5, 'Mz')"
      ]
     },
     "execution_count": 19,
     "metadata": {},
     "output_type": "execute_result"
    },
    {
     "data": {
      "image/png": "[encoded data removed]",
      "text/plain": [
       "<Figure size 432x288 with 1 Axes>"
      ]
     },
     "metadata": {
      "needs_background": "light"
     },
     "output_type": "display_data"
    }
   ],
   "source": [
    "## for Mz\n",
    "plt.plot(lz,l3)\n",
    "plt.xlabel('Bz')\n",
    "plt.ylabel('Mz')\n"
   ]
  },
  {
   "cell_type": "markdown",
   "metadata": {},
   "source": [
    "c)"
   ]
  },
  {
   "cell_type": "code",
   "execution_count": 23,
   "metadata": {},
   "outputs": [
    {
     "name": "stdout",
     "output_type": "stream",
     "text": [
      "v= [-1.49865631e+00 -1.74339709e-16  1.49865631e+00]\n",
      "P= [[-0.32183278+0.j         -0.66069122-0.j          0.67816722+0.j        ]\n",
      " [ 0.57428134+0.32667082j  0.30973049+0.17618527j  0.57428134+0.32667082j]\n",
      " [-0.34658563-0.58291438j  0.33765431+0.567893j    0.16447657+0.27662935j]]\n",
      "Pinv= [[-0.32183278-0.j          0.57428134-0.32667082j -0.34658563+0.58291438j]\n",
      " [-0.66069122+0.j          0.30973049-0.17618527j  0.33765431-0.567893j  ]\n",
      " [ 0.67816722-0.j          0.57428134-0.32667082j  0.16447657-0.27662935j]]\n",
      "psi0= [[-0.32183278+0.j        ]\n",
      " [ 0.57428134+0.32667082j]\n",
      " [-0.34658563-0.58291438j]]\n",
      "D= [[-1.49865631e+00  0.00000000e+00  0.00000000e+00]\n",
      " [ 0.00000000e+00 -1.74339709e-16  0.00000000e+00]\n",
      " [ 0.00000000e+00  0.00000000e+00  1.49865631e+00]]\n"
     ]
    }
   ],
   "source": [
    "x = random.random()\n",
    "y = random.random()\n",
    "z = random.random()\n",
    "\n",
    "H=(x*X)+(y*Y)+(z*Z)\n",
    "v,P=np.linalg.eigh(H)\n",
    "Pinv=np.transpose(np.conj(P))\n",
    "\n",
    "\n",
    "print('v=',v)\n",
    "print('P=',P)\n",
    "print('Pinv=',Pinv)\n",
    "\n",
    "p=np.array(P[:,0]) \n",
    "psi0=p.reshape(3,1)\n",
    "print('psi0=',psi0)\n",
    "\n",
    "D=(np.diag(v))\n",
    "\n",
    "\n",
    "print('D=',D)"
   ]
  },
  {
   "cell_type": "code",
   "execution_count": 25,
   "metadata": {},
   "outputs": [],
   "source": [
    "time=np.arange(1,11,0.1)\n",
    "list_psit=list()\n",
    "m1t=list()\n",
    "m2t=list()\n",
    "m3t=list()\n",
    "for t in time:\n",
    "    D=np.diag(np.exp((((-v)*t)/hbar)*1.j))\n",
    "\n",
    "    \n",
    "    U=np.dot(P,np.dot(D,Pinv))\n",
    "    psit=np.dot(U,psi0)\n",
    "    list_psit.append(psit)\n",
    "    \n",
    "    hp=psit.reshape(1,3)\n",
    "    hpsit=hp.conj()\n",
    "    M1t=np.dot(hpsit,np.dot(X,psit))\n",
    "    M2t=np.dot(hpsit,np.dot(Y,psit))\n",
    "    M3t=np.dot(hpsit,np.dot(Z,psit))\n",
    "    m1t.append(M1t[0])\n",
    "    m2t.append(M2t[0])\n",
    "    m3t.append(M3t[0])    \n",
    "    \n",
    "    D=np.diag(v)"
   ]
  },
  {
   "cell_type": "code",
   "execution_count": 27,
   "metadata": {},
   "outputs": [
    {
     "name": "stderr",
     "output_type": "stream",
     "text": [
      "C:\\Users\\Kartikeya Arora\\anaconda3\\lib\\site-packages\\numpy\\core\\_asarray.py:85: ComplexWarning: Casting complex values to real discards the imaginary part\n",
      "  return array(a, dtype, copy=False, order=order)\n"
     ]
    },
    {
     "data": {
      "text/plain": [
       "Text(0, 0.5, 'Mxt')"
      ]
     },
     "execution_count": 27,
     "metadata": {},
     "output_type": "execute_result"
    },
    {
     "data": {
      "image/png": "[encoded data removed]",
      "text/plain": [
       "<Figure size 432x288 with 1 Axes>"
      ]
     },
     "metadata": {
      "needs_background": "light"
     },
     "output_type": "display_data"
    }
   ],
   "source": [
    "## for Mxt\n",
    "plt.plot(time,m1t)\n",
    "plt.xlabel('time')\n",
    "plt.ylabel('Mxt')"
   ]
  },
  {
   "cell_type": "code",
   "execution_count": 28,
   "metadata": {},
   "outputs": [
    {
     "name": "stderr",
     "output_type": "stream",
     "text": [
      "C:\\Users\\Kartikeya Arora\\anaconda3\\lib\\site-packages\\numpy\\core\\_asarray.py:85: ComplexWarning: Casting complex values to real discards the imaginary part\n",
      "  return array(a, dtype, copy=False, order=order)\n"
     ]
    },
    {
     "data": {
      "text/plain": [
       "Text(0, 0.5, 'Myt')"
      ]
     },
     "execution_count": 28,
     "metadata": {},
     "output_type": "execute_result"
    },
    {
     "data": {
      "image/png": "[encoded data removed]",
      "text/plain": [
       "<Figure size 432x288 with 1 Axes>"
      ]
     },
     "metadata": {
      "needs_background": "light"
     },
     "output_type": "display_data"
    }
   ],
   "source": [
    "## for Myt\n",
    "plt.plot(time,m2t)\n",
    "plt.xlabel('time')\n",
    "plt.ylabel('Myt')"
   ]
  },
  {
   "cell_type": "code",
   "execution_count": 29,
   "metadata": {},
   "outputs": [
    {
     "name": "stderr",
     "output_type": "stream",
     "text": [
      "C:\\Users\\Kartikeya Arora\\anaconda3\\lib\\site-packages\\numpy\\core\\_asarray.py:85: ComplexWarning: Casting complex values to real discards the imaginary part\n",
      "  return array(a, dtype, copy=False, order=order)\n"
     ]
    },
    {
     "data": {
      "text/plain": [
       "Text(0, 0.5, 'Mzt')"
      ]
     },
     "execution_count": 29,
     "metadata": {},
     "output_type": "execute_result"
    },
    {
     "data": {
      "image/png": "[encoded data removed]",
      "text/plain": [
       "<Figure size 432x288 with 1 Axes>"
      ]
     },
     "metadata": {
      "needs_background": "light"
     },
     "output_type": "display_data"
    }
   ],
   "source": [
    "## for Mzt\n",
    "plt.plot(time,m3t)\n",
    "plt.xlabel('time')\n",
    "plt.ylabel('Mzt')"
   ]
  },
  {
   "cell_type": "code",
   "execution_count": 30,
   "metadata": {},
   "outputs": [],
   "source": [
    "## For a random Psi"
   ]
  },
  {
   "cell_type": "code",
   "execution_count": 35,
   "metadata": {},
   "outputs": [
    {
     "name": "stdout",
     "output_type": "stream",
     "text": [
      "PsiR= [[0.56377607+0.36570056j]\n",
      " [0.37977304+0.46289355j]\n",
      " [0.43575334+0.00637776j]]\n",
      "hpsiR= [[0.56377607-0.36570056j 0.37977304-0.46289355j 0.43575334-0.00637776j]]\n"
     ]
    }
   ],
   "source": [
    "PsiR=np.zeros((3,1),dtype=complex)\n",
    "PsiR[0][0]=random.random()+random.random()*1.j\n",
    "PsiR[1][0]=random.random()+random.random()*1.j\n",
    "PsiR[2][0]=random.random()+random.random()*1.j\n",
    "hpsiR=np.conj(PsiR.reshape(1,3))\n",
    "nor=np.dot(hpsiR,PsiR)\n",
    "PsiR=PsiR/(nor**0.5)\n",
    "hpsiR=hpsiR/(nor**0.5)\n",
    "print('PsiR=',PsiR)\n",
    "print('hpsiR=',hpsiR)"
   ]
  },
  {
   "cell_type": "code",
   "execution_count": 37,
   "metadata": {},
   "outputs": [],
   "source": [
    "list_psitR=list()\n",
    "m1tR=list()\n",
    "m2tR=list()\n",
    "m3tR=list()\n",
    "for t in time:\n",
    "    D=np.diag(np.exp((((-v)*t)/hbar)*1.j))\n",
    "\n",
    "    \n",
    "    U=np.dot(P,np.dot(D,Pinv))\n",
    "    psitR=np.dot(U,PsiR)\n",
    "    list_psitR.append(psitR)\n",
    "    \n",
    "    hpR=psitR.reshape(1,3)\n",
    "    hpsitR=hpR.conj()\n",
    "    M1tR=np.dot(hpsitR,np.dot(X,psitR))\n",
    "    M2tR=np.dot(hpsitR,np.dot(Y,psitR))\n",
    "    M3tR=np.dot(hpsitR,np.dot(Z,psitR))\n",
    "    m1tR.append(M1tR[0])\n",
    "    m2tR.append(M2tR[0])\n",
    "    m3tR.append(M3tR[0])    \n",
    "    \n",
    "    D=np.diag(v)"
   ]
  },
  {
   "cell_type": "code",
   "execution_count": 38,
   "metadata": {},
   "outputs": [
    {
     "name": "stderr",
     "output_type": "stream",
     "text": [
      "C:\\Users\\Kartikeya Arora\\anaconda3\\lib\\site-packages\\numpy\\core\\_asarray.py:85: ComplexWarning: Casting complex values to real discards the imaginary part\n",
      "  return array(a, dtype, copy=False, order=order)\n"
     ]
    },
    {
     "data": {
      "text/plain": [
       "Text(0, 0.5, 'MxtR')"
      ]
     },
     "execution_count": 38,
     "metadata": {},
     "output_type": "execute_result"
    },
    {
     "data": {
      "image/png": "[encoded data removed]",
      "text/plain": [
       "<Figure size 432x288 with 1 Axes>"
      ]
     },
     "metadata": {
      "needs_background": "light"
     },
     "output_type": "display_data"
    }
   ],
   "source": [
    "## for MxtR\n",
    "plt.plot(time,m1tR)\n",
    "plt.xlabel('time')\n",
    "plt.ylabel('MxtR')"
   ]
  },
  {
   "cell_type": "code",
   "execution_count": 39,
   "metadata": {},
   "outputs": [
    {
     "name": "stderr",
     "output_type": "stream",
     "text": [
      "C:\\Users\\Kartikeya Arora\\anaconda3\\lib\\site-packages\\numpy\\core\\_asarray.py:85: ComplexWarning: Casting complex values to real discards the imaginary part\n",
      "  return array(a, dtype, copy=False, order=order)\n"
     ]
    },
    {
     "data": {
      "text/plain": [
       "Text(0, 0.5, 'MytR')"
      ]
     },
     "execution_count": 39,
     "metadata": {},
     "output_type": "execute_result"
    },
    {
     "data": {
      "image/png": "[encoded data removed]",
      "text/plain": [
       "<Figure size 432x288 with 1 Axes>"
      ]
     },
     "metadata": {
      "needs_background": "light"
     },
     "output_type": "display_data"
    }
   ],
   "source": [
    "## for MytR\n",
    "plt.plot(time,m2tR)\n",
    "plt.xlabel('time')\n",
    "plt.ylabel('MytR')"
   ]
  },
  {
   "cell_type": "code",
   "execution_count": 40,
   "metadata": {},
   "outputs": [
    {
     "name": "stderr",
     "output_type": "stream",
     "text": [
      "C:\\Users\\Kartikeya Arora\\anaconda3\\lib\\site-packages\\numpy\\core\\_asarray.py:85: ComplexWarning: Casting complex values to real discards the imaginary part\n",
      "  return array(a, dtype, copy=False, order=order)\n"
     ]
    },
    {
     "data": {
      "text/plain": [
       "Text(0, 0.5, 'MztR')"
      ]
     },
     "execution_count": 40,
     "metadata": {},
     "output_type": "execute_result"
    },
    {
     "data": {
      "image/png": "[encoded data removed]",
      "text/plain": [
       "<Figure size 432x288 with 1 Axes>"
      ]
     },
     "metadata": {
      "needs_background": "light"
     },
     "output_type": "display_data"
    }
   ],
   "source": [
    "## for MztR\n",
    "plt.plot(time,m3tR)\n",
    "plt.xlabel('time')\n",
    "plt.ylabel('MztR')"
   ]
  },
  {
   "cell_type": "code",
   "execution_count": null,
   "metadata": {},
   "outputs": [],
   "source": []
  }
 ],
 "metadata": {
  "kernelspec": {
   "display_name": "Python 3",
   "language": "python",
   "name": "python3"
  },
  "language_info": {
   "codemirror_mode": {
    "name": "ipython",
    "version": 3
   },
   "file_extension": ".py",
   "mimetype": "text/x-python",
   "name": "python",
   "nbconvert_exporter": "python",
   "pygments_lexer": "ipython3",
   "version": "3.8.3"
  }
 },
 "nbformat": 4,
 "nbformat_minor": 4
}
