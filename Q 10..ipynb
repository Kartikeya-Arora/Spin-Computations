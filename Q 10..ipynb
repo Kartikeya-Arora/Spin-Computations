{
 "cells": [
  {
   "cell_type": "code",
   "execution_count": 2,
   "metadata": {},
   "outputs": [
    {
     "name": "stdout",
     "output_type": "stream",
     "text": [
      "no. of particles:3\n",
      "Hamiltonian(open): [[ 2. +0.j  0. +0.j  0. +0.j  0. +0.j  0. +0.j  0. +0.j  0. +0.j  0. +0.j]\n",
      " [ 0. +0.j  0.5+0.j  0.5+0.j  0. +0.j  0. +0.j  0. +0.j  0. +0.j  0. +0.j]\n",
      " [ 0. +0.j  0.5+0.j  0. +0.j  0. +0.j  0.5+0.j  0. +0.j  0. +0.j  0. +0.j]\n",
      " [ 0. +0.j  0. +0.j  0. +0.j -0.5+0.j  0. +0.j  0.5+0.j  0. +0.j  0. +0.j]\n",
      " [ 0. +0.j  0. +0.j  0.5+0.j  0. +0.j  0.5+0.j  0. +0.j  0. +0.j  0. +0.j]\n",
      " [ 0. +0.j  0. +0.j  0. +0.j  0.5+0.j  0. +0.j -1. +0.j  0.5+0.j  0. +0.j]\n",
      " [ 0. +0.j  0. +0.j  0. +0.j  0. +0.j  0. +0.j  0.5+0.j -0.5+0.j  0. +0.j]\n",
      " [ 0. +0.j  0. +0.j  0. +0.j  0. +0.j  0. +0.j  0. +0.j  0. +0.j -1. +0.j]]\n"
     ]
    }
   ],
   "source": [
    "import numpy as np \n",
    "import random\n",
    "import f\n",
    "import matplotlib.pyplot as plt\n",
    "hbar=1\n",
    "def s(A,i):\n",
    "    s=np.kron(np.eye(2**i),np.kron(A,np.eye(2**(L-1-i))))\n",
    "    return(s)\n",
    "\n",
    "X =np.array([[0,1],[1,0]],dtype=complex)/2\n",
    "Y =np.array([[0,-1.j],[1.j,0]],dtype=complex)/2\n",
    "Z =np.array([[1,0],[0,-1]],dtype=complex)/2\n",
    "I=np.identity(2, dtype = complex)\n",
    "L=int(input('no. of particles:'))\n",
    "n=2**L\n",
    "\n",
    "a=np.zeros((n,n))\n",
    "b=np.zeros((n,n))\n",
    "c=np.zeros((n,n))\n",
    "d=np.zeros((n,n))\n",
    "for i in range(L-1):\n",
    "    a=a+np.dot(s(X,i),s(X,i+1))\n",
    "    b=b+np.dot(s(Y,i),s(Y,i+1))\n",
    "    c=c+np.dot(s(Z,i),s(Z,i+1))\n",
    "   \n",
    "              \n",
    "                \n",
    "for i in range(L):\n",
    "    h=random.random()\n",
    "    d=d+s(Z,i)  \n",
    "         \n",
    "Ham_open=a+b+c+d\n",
    "\n",
    "print('Hamiltonian(open):',Ham_open)\n",
    "\n",
    "              "
   ]
  },
  {
   "cell_type": "code",
   "execution_count": 3,
   "metadata": {},
   "outputs": [],
   "source": [
    "Zero=np.array([[1],[0]])\n",
    "One=np.array([[0],[1]])"
   ]
  },
  {
   "cell_type": "code",
   "execution_count": 4,
   "metadata": {},
   "outputs": [
    {
     "name": "stdout",
     "output_type": "stream",
     "text": [
      "Initial State:\n",
      " [[0]\n",
      " [0]\n",
      " [1]\n",
      " [0]\n",
      " [0]\n",
      " [0]\n",
      " [0]\n",
      " [0]]\n"
     ]
    }
   ],
   "source": [
    "S_i=np.array([1])\n",
    "for l in range(L):\n",
    "    if l%2==0:\n",
    "        S_i=np.kron(S_i,Zero)\n",
    "    else:\n",
    "        S_i=np.kron(S_i,One)\n",
    "hS_i=np.conj(S_i).T    \n",
    "print('Initial State:\\n',S_i)"
   ]
  },
  {
   "cell_type": "code",
   "execution_count": 5,
   "metadata": {
    "scrolled": false
   },
   "outputs": [],
   "source": [
    "v,P=np.linalg.eigh(Ham_open)\n",
    "Pinv=np.linalg.inv(P)\n",
    "S_t=list()\n",
    "Mz_1=list()\n",
    "time=np.arange(1,10,0.1)\n",
    "for t in time:\n",
    "    D=np.diag(np.exp((((-v)*t)/hbar)*1.j))  \n",
    "    U=np.dot(P,np.dot(D,Pinv))\n",
    "    s_t=np.dot(U,S_i)\n",
    "    hs_t=np.conj(s_t).T\n",
    "    S_t.append(s_t)\n",
    "    mz1=np.dot(hs_t,np.dot(s(Z,0),s_t))\n",
    "  \n",
    "    Mz_1.append(mz1[0])\n",
    "    D=np.diag(v)\n",
    "    \n"
   ]
  },
  {
   "cell_type": "code",
   "execution_count": 6,
   "metadata": {},
   "outputs": [
    {
     "name": "stdout",
     "output_type": "stream",
     "text": [
      "Enter No. of Particles:3\n",
      "Hamiltonian:\n",
      "   (0, 0)\t0.5\n",
      "  (1, 2)\t0.5\n",
      "  (2, 1)\t0.5\n",
      "  (2, 2)\t-0.5\n",
      "  (2, 4)\t0.5\n",
      "  (3, 5)\t0.5\n",
      "  (4, 2)\t0.5\n",
      "  (5, 3)\t0.5\n",
      "  (5, 5)\t-0.5\n",
      "  (5, 6)\t0.5\n",
      "  (6, 5)\t0.5\n",
      "  (7, 7)\t0.5\n",
      "Initial State:\n",
      "   (2, 0)\t(1+0j)\n"
     ]
    }
   ],
   "source": [
    "import quimb as qu\n",
    "L=int(input('Enter No. of Particles:'))\n",
    "H = qu.ham_heis(L,sparse=True,cyclic=False)\n",
    "print('Hamiltonian:\\n',H)\n",
    "u=qu.up(sparse=True)\n",
    "d=qu.down(sparse=True)    \n",
    "r=np.array([1])\n",
    "S_i=qu.qu(r,qtype='ket',sparse=True)\n",
    "for l in range(L):\n",
    "    if l%2==0:\n",
    "        S_i=qu.kron(S_i,u)\n",
    "    else:\n",
    "        S_i=qu.kron(S_i,d)\n",
    "  \n",
    "print('Initial State:\\n',S_i)\n",
    "GS=qu.qu(qu.groundstate(H),sparse=True)\n",
    "Sz0=qu.ikron(qu.spin_operator('z'),[2]*L , inds=[0])\n",
    "el=list()\n",
    "evo=qu.Evolution(S_i,H)\n",
    "for pt in evo.at_times(np.arange(0,10,0.1)):\n",
    "    e=qu.expec(pt,Sz0)\n",
    "    el.append(e)"
   ]
  },
  {
   "cell_type": "code",
   "execution_count": 7,
   "metadata": {},
   "outputs": [
    {
     "name": "stderr",
     "output_type": "stream",
     "text": [
      "C:\\Users\\Kartikeya Arora\\anaconda3\\lib\\site-packages\\numpy\\core\\_asarray.py:85: ComplexWarning: Casting complex values to real discards the imaginary part\n",
      "  return array(a, dtype, copy=False, order=order)\n"
     ]
    },
    {
     "data": {
      "text/plain": [
       "[<matplotlib.lines.Line2D at 0x1a4b6328340>]"
      ]
     },
     "execution_count": 7,
     "metadata": {},
     "output_type": "execute_result"
    },
    {
     "data": {
      "image/png": "[encoded data removed]",
      "text/plain": [
       "<Figure size 432x288 with 1 Axes>"
      ]
     },
     "metadata": {
      "needs_background": "light"
     },
     "output_type": "display_data"
    }
   ],
   "source": [
    "plt.plot(time,Mz_1)\n",
    "plt.plot(np.arange(0,10,0.1),el)"
   ]
  },
  {
   "cell_type": "code",
   "execution_count": null,
   "metadata": {},
   "outputs": [],
   "source": []
  }
 ],
 "metadata": {
  "kernelspec": {
   "display_name": "Python 3",
   "language": "python",
   "name": "python3"
  },
  "language_info": {
   "codemirror_mode": {
    "name": "ipython",
    "version": 3
   },
   "file_extension": ".py",
   "mimetype": "text/x-python",
   "name": "python",
   "nbconvert_exporter": "python",
   "pygments_lexer": "ipython3",
   "version": "3.8.3"
  }
 },
 "nbformat": 4,
 "nbformat_minor": 4
}
