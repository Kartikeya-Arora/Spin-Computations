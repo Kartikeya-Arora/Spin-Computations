{
 "cells": [
  {
   "cell_type": "code",
   "execution_count": 1,
   "metadata": {},
   "outputs": [
    {
     "name": "stdout",
     "output_type": "stream",
     "text": [
      "no. of particles:2\n",
      "Hamiltonian(open): [[ 3.+0.j  0.+0.j  0.+0.j  0.+0.j]\n",
      " [ 0.+0.j -1.+0.j  2.+0.j  0.+0.j]\n",
      " [ 0.+0.j  2.+0.j -1.+0.j  0.+0.j]\n",
      " [ 0.+0.j  0.+0.j  0.+0.j -1.+0.j]]\n",
      "\n",
      "Hamiltonian(periodic): [[ 4.+0.j  0.+0.j  0.+0.j  0.+0.j]\n",
      " [ 0.+0.j -2.+0.j  4.+0.j  0.+0.j]\n",
      " [ 0.+0.j  4.+0.j -2.+0.j  0.+0.j]\n",
      " [ 0.+0.j  0.+0.j  0.+0.j  0.+0.j]]\n"
     ]
    }
   ],
   "source": [
    "import numpy as np \n",
    "import random\n",
    "def s(A,i):\n",
    "    s=np.kron(np.eye(2**i),np.kron(A,np.eye(2**(L-1-i))))\n",
    "    return(s)\n",
    "\n",
    "X =np.array([[0,1],[1,0]],dtype=complex)\n",
    "Y =np.array([[0,0-1.j],[0+1.j,0]],dtype=complex)\n",
    "Z =np.array([[1,0],[0,-1]],dtype=complex)\n",
    "I=np.identity(2, dtype = complex)\n",
    "L=int(input('no. of particles:'))\n",
    "n=2**L\n",
    "\n",
    "a=np.zeros((n,n))\n",
    "b=np.zeros((n,n))\n",
    "c=np.zeros((n,n))\n",
    "d=np.zeros((n,n))\n",
    "for i in range(L-1):\n",
    "    a=a+np.dot(s(X,i),s(X,i+1))\n",
    "    b=b+np.dot(s(Y,i),s(Y,i+1))\n",
    "    c=c+np.dot(s(Z,i),s(Z,i+1))\n",
    "   \n",
    "              \n",
    "                \n",
    "for i in range(L):\n",
    "    h=random.random()\n",
    "    d=d+s(Z,i)  \n",
    "         \n",
    "Ham_open=a+b+c+d\n",
    "Ham_periodic=Ham_open+np.dot(s(X,L-1),s(X,0))+np.dot(s(Y,L-1),s(Y,0))+np.dot(s(Z,L-1),s(Z,0))\n",
    "print('Hamiltonian(open):',Ham_open)\n",
    "\n",
    "print()\n",
    "print('Hamiltonian(periodic):',Ham_periodic)                "
   ]
  },
  {
   "cell_type": "code",
   "execution_count": null,
   "metadata": {},
   "outputs": [],
   "source": []
  }
 ],
 "metadata": {
  "kernelspec": {
   "display_name": "Python 3",
   "language": "python",
   "name": "python3"
  },
  "language_info": {
   "codemirror_mode": {
    "name": "ipython",
    "version": 3
   },
   "file_extension": ".py",
   "mimetype": "text/x-python",
   "name": "python",
   "nbconvert_exporter": "python",
   "pygments_lexer": "ipython3",
   "version": "3.8.3"
  }
 },
 "nbformat": 4,
 "nbformat_minor": 4
}
