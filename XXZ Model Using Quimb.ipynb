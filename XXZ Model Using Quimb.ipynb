{
 "cells": [
  {
   "cell_type": "code",
   "execution_count": 9,
   "metadata": {},
   "outputs": [],
   "source": [
    "import quimb as qu\n",
    "import numpy as np\n",
    "import matplotlib.pyplot as plt"
   ]
  },
  {
   "cell_type": "code",
   "execution_count": 17,
   "metadata": {},
   "outputs": [
    {
     "name": "stdout",
     "output_type": "stream",
     "text": [
      "Enter No. of Particles:3\n",
      "Hamiltonian:\n",
      "   (0, 0)\t0.5\n",
      "  (1, 2)\t0.5\n",
      "  (2, 1)\t0.5\n",
      "  (2, 2)\t-0.5\n",
      "  (2, 4)\t0.5\n",
      "  (3, 5)\t0.5\n",
      "  (4, 2)\t0.5\n",
      "  (5, 3)\t0.5\n",
      "  (5, 5)\t-0.5\n",
      "  (5, 6)\t0.5\n",
      "  (6, 5)\t0.5\n",
      "  (7, 7)\t0.5\n"
     ]
    }
   ],
   "source": [
    "L=int(input('Enter No. of Particles:'))\n",
    "H = qu.ham_heis(L,sparse=True,cyclic=False)\n",
    "print('Hamiltonian:\\n',H)"
   ]
  },
  {
   "cell_type": "code",
   "execution_count": 18,
   "metadata": {},
   "outputs": [],
   "source": [
    "u=qu.up(sparse=True)\n",
    "d=qu.down(sparse=True)    "
   ]
  },
  {
   "cell_type": "code",
   "execution_count": 19,
   "metadata": {},
   "outputs": [
    {
     "name": "stdout",
     "output_type": "stream",
     "text": [
      "Initial State:\n",
      "   (2, 0)\t(1+0j)\n"
     ]
    }
   ],
   "source": [
    "r=np.array([1])\n",
    "S_i=qu.qu(r,qtype='ket',sparse=True)\n",
    "for l in range(L):\n",
    "    if l%2==0:\n",
    "        S_i=qu.kron(S_i,u)\n",
    "    else:\n",
    "        S_i=qu.kron(S_i,d)\n",
    "  \n",
    "print('Initial State:\\n',S_i)"
   ]
  },
  {
   "cell_type": "code",
   "execution_count": 20,
   "metadata": {},
   "outputs": [],
   "source": [
    "GS=qu.qu(qu.groundstate(H),sparse=True)"
   ]
  },
  {
   "cell_type": "code",
   "execution_count": 21,
   "metadata": {},
   "outputs": [
    {
     "name": "stdout",
     "output_type": "stream",
     "text": [
      "Ground State:\n",
      "   (1, 0)\t(0.40824829046386296+0j)\n",
      "  (2, 0)\t(-0.8164965809277258+0j)\n",
      "  (4, 0)\t(0.4082482904638631+0j)\n"
     ]
    }
   ],
   "source": [
    "print('Ground State:\\n',GS)"
   ]
  },
  {
   "cell_type": "code",
   "execution_count": 22,
   "metadata": {},
   "outputs": [],
   "source": [
    "Sz0=qu.ikron(qu.spin_operator('z'),[2]*L , inds=[0])\n",
    "el=list()\n",
    "evo=qu.Evolution(S_i,H)\n",
    "for pt in evo.at_times(np.arange(0,10,0.1)):\n",
    "    e=qu.expec(pt,Sz0)\n",
    "    el.append(e)"
   ]
  },
  {
   "cell_type": "code",
   "execution_count": 23,
   "metadata": {},
   "outputs": [
    {
     "data": {
      "text/plain": [
       "[<matplotlib.lines.Line2D at 0x200cac29100>]"
      ]
     },
     "execution_count": 23,
     "metadata": {},
     "output_type": "execute_result"
    },
    {
     "data": {
      "image/png": "[encoded data removed]",
      "text/plain": [
       "<Figure size 432x288 with 1 Axes>"
      ]
     },
     "metadata": {
      "needs_background": "light"
     },
     "output_type": "display_data"
    }
   ],
   "source": [
    "plt.plot(np.arange(0,10,0.1),el)\n"
   ]
  },
  {
   "cell_type": "code",
   "execution_count": null,
   "metadata": {},
   "outputs": [],
   "source": []
  }
 ],
 "metadata": {
  "kernelspec": {
   "display_name": "Python 3",
   "language": "python",
   "name": "python3"
  },
  "language_info": {
   "codemirror_mode": {
    "name": "ipython",
    "version": 3
   },
   "file_extension": ".py",
   "mimetype": "text/x-python",
   "name": "python",
   "nbconvert_exporter": "python",
   "pygments_lexer": "ipython3",
   "version": "3.8.3"
  }
 },
 "nbformat": 4,
 "nbformat_minor": 4
}
