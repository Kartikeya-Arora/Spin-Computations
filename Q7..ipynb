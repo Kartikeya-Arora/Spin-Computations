{
 "cells": [
  {
   "cell_type": "code",
   "execution_count": 2,
   "metadata": {},
   "outputs": [],
   "source": [
    "import numpy as np  \n",
    "from f import func1\n",
    "        \n",
    "\n",
    "X =np.array([[0,1],[1,0]],dtype=complex)\n",
    "Y =np.array([[0,0-1.j],[0+1.j,0]],dtype=complex)\n",
    "Z =np.array([[1,0],[0,-1]],dtype=complex)\n",
    "I=np.identity(2, dtype = complex)\n",
    "\n",
    "Xa=np.kron(X,np.kron(I,I))\n",
    "Xb=np.kron(I,np.kron(X,I))\n",
    "Xc=np.kron(I,np.kron(I,X))\n",
    "\n",
    "Ya=np.kron(Y,np.kron(I,I))\n",
    "Yb=np.kron(I,np.kron(Y,I))\n",
    "Yc=np.kron(I,np.kron(I,Y))\n",
    "\n",
    "Za=np.kron(Z,np.kron(I,I))\n",
    "Zb=np.kron(I,np.kron(Z,I))\n",
    "Zc=np.kron(I,np.kron(I,Z))\n",
    "\n",
    "Operators=[Xa,Xb,Xc,Ya,Yb,Yc,Za,Zb,Zc]\n",
    "\n"
   ]
  },
  {
   "cell_type": "code",
   "execution_count": 3,
   "metadata": {},
   "outputs": [
    {
     "name": "stdout",
     "output_type": "stream",
     "text": [
      "Hamiltonian: [[ 2.+0.j  0.+0.j  0.+0.j  0.+0.j  0.+0.j  0.+0.j  0.+0.j  0.+0.j]\n",
      " [ 0.+0.j  0.+0.j  2.+0.j  0.+0.j  0.+0.j  0.+0.j  0.+0.j  0.+0.j]\n",
      " [ 0.+0.j  2.+0.j -2.+0.j  0.+0.j  2.+0.j  0.+0.j  0.+0.j  0.+0.j]\n",
      " [ 0.+0.j  0.+0.j  0.+0.j  0.+0.j  0.+0.j  2.+0.j  0.+0.j  0.+0.j]\n",
      " [ 0.+0.j  0.+0.j  2.+0.j  0.+0.j  0.+0.j  0.+0.j  0.+0.j  0.+0.j]\n",
      " [ 0.+0.j  0.+0.j  0.+0.j  2.+0.j  0.+0.j -2.+0.j  2.+0.j  0.+0.j]\n",
      " [ 0.+0.j  0.+0.j  0.+0.j  0.+0.j  0.+0.j  2.+0.j  0.+0.j  0.+0.j]\n",
      " [ 0.+0.j  0.+0.j  0.+0.j  0.+0.j  0.+0.j  0.+0.j  0.+0.j  2.+0.j]]\n"
     ]
    }
   ],
   "source": [
    "Ham=np.dot(Xa,Xb)+np.dot(Ya,Yb)+np.dot(Za,Zb)+np.dot(Xb,Xc)+np.dot(Yb,Yc)+np.dot(Zb,Zc)\n",
    "print('Hamiltonian:',Ham)"
   ]
  },
  {
   "cell_type": "code",
   "execution_count": 4,
   "metadata": {},
   "outputs": [
    {
     "name": "stdout",
     "output_type": "stream",
     "text": [
      "Eigenvalues: [-4.00000000e+00 -4.00000000e+00 -2.17382536e-16 -2.17382536e-16\n",
      "  2.00000000e+00  2.00000000e+00  2.00000000e+00  2.00000000e+00]\n",
      "Eigenvectors: [[-0.00000000e+00-0.j  0.00000000e+00+0.j  0.00000000e+00+0.j\n",
      "  -0.00000000e+00-0.j  0.00000000e+00+0.j  0.00000000e+00+0.j\n",
      "   1.00000000e+00+0.j  0.00000000e+00+0.j]\n",
      " [ 4.08248290e-01-0.j  0.00000000e+00+0.j  7.07106781e-01+0.j\n",
      "  -0.00000000e+00-0.j  0.00000000e+00+0.j -5.77350269e-01+0.j\n",
      "   0.00000000e+00+0.j  0.00000000e+00+0.j]\n",
      " [-8.16496581e-01-0.j  0.00000000e+00+0.j -6.03133043e-17+0.j\n",
      "  -0.00000000e+00-0.j  0.00000000e+00+0.j -5.77350269e-01+0.j\n",
      "   0.00000000e+00+0.j  0.00000000e+00+0.j]\n",
      " [ 0.00000000e+00+0.j -4.08248290e-01+0.j  0.00000000e+00+0.j\n",
      "  -7.07106781e-01+0.j -5.77350269e-01+0.j  0.00000000e+00+0.j\n",
      "   0.00000000e+00+0.j  0.00000000e+00+0.j]\n",
      " [ 4.08248290e-01+0.j  0.00000000e+00+0.j -7.07106781e-01+0.j\n",
      "   0.00000000e+00+0.j  0.00000000e+00+0.j -5.77350269e-01+0.j\n",
      "   0.00000000e+00+0.j  0.00000000e+00+0.j]\n",
      " [ 0.00000000e+00+0.j  8.16496581e-01+0.j  0.00000000e+00+0.j\n",
      "   6.03133043e-17+0.j -5.77350269e-01+0.j  0.00000000e+00+0.j\n",
      "   0.00000000e+00+0.j  0.00000000e+00+0.j]\n",
      " [ 0.00000000e+00+0.j -4.08248290e-01+0.j  0.00000000e+00+0.j\n",
      "   7.07106781e-01+0.j -5.77350269e-01+0.j  0.00000000e+00+0.j\n",
      "   0.00000000e+00+0.j  0.00000000e+00+0.j]\n",
      " [ 0.00000000e+00+0.j  0.00000000e+00+0.j  0.00000000e+00+0.j\n",
      "  -0.00000000e+00+0.j  0.00000000e+00+0.j  0.00000000e+00+0.j\n",
      "   0.00000000e+00+0.j  1.00000000e+00+0.j]]\n"
     ]
    }
   ],
   "source": [
    "v,w=np.linalg.eigh(Ham)\n",
    "print('Eigenvalues:',v)\n",
    "print('Eigenvectors:',w)"
   ]
  },
  {
   "cell_type": "code",
   "execution_count": 5,
   "metadata": {},
   "outputs": [
    {
     "name": "stdout",
     "output_type": "stream",
     "text": [
      "Ground State: [-0.        -0.j  0.40824829-0.j -0.81649658-0.j  0.        +0.j\n",
      "  0.40824829+0.j  0.        +0.j  0.        +0.j  0.        +0.j]\n"
     ]
    }
   ],
   "source": [
    "GS=w[:,0]\n",
    "print('Ground State:',GS)\n",
    "hGS=np.conj(GS).T"
   ]
  },
  {
   "cell_type": "code",
   "execution_count": 6,
   "metadata": {},
   "outputs": [],
   "source": [
    "##Expectation values of Nine Operators"
   ]
  },
  {
   "cell_type": "code",
   "execution_count": 8,
   "metadata": {},
   "outputs": [],
   "source": [
    "a=func1(Ham,Operators)"
   ]
  },
  {
   "cell_type": "code",
   "execution_count": 9,
   "metadata": {},
   "outputs": [
    {
     "name": "stdout",
     "output_type": "stream",
     "text": [
      "[0j, 0j, 0j, 0j, 0j, 0j, (0.6666666666666662+0j), (-0.3333333333333329+0j), (0.6666666666666664+0j)]\n"
     ]
    }
   ],
   "source": [
    "print(a)"
   ]
  },
  {
   "cell_type": "code",
   "execution_count": null,
   "metadata": {},
   "outputs": [],
   "source": []
  }
 ],
 "metadata": {
  "kernelspec": {
   "display_name": "Python 3",
   "language": "python",
   "name": "python3"
  },
  "language_info": {
   "codemirror_mode": {
    "name": "ipython",
    "version": 3
   },
   "file_extension": ".py",
   "mimetype": "text/x-python",
   "name": "python",
   "nbconvert_exporter": "python",
   "pygments_lexer": "ipython3",
   "version": "3.8.3"
  }
 },
 "nbformat": 4,
 "nbformat_minor": 4
}
