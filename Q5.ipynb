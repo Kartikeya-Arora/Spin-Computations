{
 "cells": [
  {
   "cell_type": "code",
   "execution_count": 1,
   "metadata": {},
   "outputs": [],
   "source": [
    "import numpy as np \n",
    "import matplotlib.pyplot as plt\n",
    "hbar=1"
   ]
  },
  {
   "cell_type": "code",
   "execution_count": 2,
   "metadata": {},
   "outputs": [],
   "source": [
    "def func1(h,o):\n",
    "    v,w=np.linalg.eigh(h)\n",
    "    psi=np.array(w[:,0]) \n",
    "    \n",
    "    hpsi=psi.conj().T\n",
    "    \n",
    "    for i in range(len(o)):\n",
    "        print('Expectation value of observable'+str(i)+'=',np.dot(hpsi,np.dot(o[i],psi)))"
   ]
  },
  {
   "cell_type": "code",
   "execution_count": 3,
   "metadata": {},
   "outputs": [],
   "source": [
    "def func2(P,H,O,T):\n",
    "    \n",
    "    a={}\n",
    "    HP=np.conj(P).T      \n",
    "    nor=np.dot(HP,P)\n",
    "    P=P/(nor**0.5)\n",
    "    HP=HP/(nor**0.5)\n",
    "    \n",
    "    v,w=np.linalg.eigh(H)\n",
    "    winv=np.transpose(np.conj(w))\n",
    "    D=(np.diag(v))\n",
    "\n",
    "    for i in range(len(O)):\n",
    "        b = []\n",
    "        \n",
    "        for t in T:\n",
    "            D=np.diag(np.exp((((-v)*t)/hbar)*1.j))\n",
    "            U=np.dot(w,np.dot(D,winv))\n",
    "            psitR=np.dot(U,P)\n",
    "            \n",
    "            hpsitR=psitR.conj().T\n",
    "            x=np.dot(hpsitR,np.dot(O[i],psitR))\n",
    "            b.append(x[0])\n",
    "            a[i]=b\n",
    "            \n",
    "            \n",
    "        \n",
    "    return(a)  \n",
    "    \n",
    "    \n",
    "        \n",
    "        \n",
    "            \n",
    "            \n",
    "    \n",
    "        \n",
    "        \n",
    "    \n",
    "\n",
    "    \n",
    "    "
   ]
  },
  {
   "cell_type": "code",
   "execution_count": null,
   "metadata": {},
   "outputs": [],
   "source": [
    "\n",
    "  \n",
    "Rh = int(input(\"Enter the number of rows:\")) \n",
    "Ch = int(input(\"Enter the number of columns:\")) \n",
    "  \n",
    "  \n",
    "print(\"Enter the entries in a single line (separated by space): \") \n",
    "  \n",
    "\n",
    "entries = list(map(complex, input().split())) \n",
    "  \n",
    "\n",
    "ham = np.array(entries).reshape(Rh, Ch) \n",
    "print('Hamiltonain=',ham) "
   ]
  },
  {
   "cell_type": "code",
   "execution_count": null,
   "metadata": {},
   "outputs": [],
   "source": [
    "N = int(input(\"Enter the number of observables:\"))\n",
    "R = int(input(\"Enter the number of rows:\")) \n",
    "C = int(input(\"Enter the number of columns:\")) \n",
    "list_obs=list()  \n",
    "  \n",
    "print(\"Enter the entries in a single line (separated by space): \") \n",
    "  \n",
    "for i in range(N):\n",
    "    \n",
    "    entries = list(map(complex, input().split())) \n",
    "    obs_i = np.array(entries).reshape(R, C)\n",
    "    list_obs.append(obs_i)\n",
    "    print('observable'+str(i)+'=',obs_i) "
   ]
  },
  {
   "cell_type": "code",
   "execution_count": null,
   "metadata": {},
   "outputs": [],
   "source": [
    "func1(ham,list_obs)"
   ]
  },
  {
   "cell_type": "code",
   "execution_count": null,
   "metadata": {},
   "outputs": [],
   "source": [
    "Ri = int(input(\"Enter the number of rows:\")) \n",
    "Ci = int(input(\"Enter the number of columns:\")) \n",
    " \n",
    "  \n",
    "print(\"Enter the entries in a single line (separated by space): \") \n",
    "  \n",
    "\n",
    "entries = list(map(complex, input().split())) \n",
    "psi_initial= np.array(entries).reshape(Ri, Ci)\n",
    "print('Initial psi=',psi_initial)    \n",
    "    "
   ]
  },
  {
   "cell_type": "code",
   "execution_count": null,
   "metadata": {},
   "outputs": [],
   "source": [
    "Rh2 = int(input(\"Enter the number of rows:\")) \n",
    "Ch2 = int(input(\"Enter the number of columns:\")) \n",
    "  \n",
    "  \n",
    "print(\"Enter the entries in a single line (separated by space): \") \n",
    "  \n",
    "\n",
    "entries = list(map(complex, input().split())) \n",
    "  \n",
    "\n",
    "ham2 = np.array(entries).reshape(Rh2, Ch2) \n",
    "print('Hamiltonain=',ham2)"
   ]
  },
  {
   "cell_type": "code",
   "execution_count": 5,
   "metadata": {},
   "outputs": [
    {
     "name": "stdout",
     "output_type": "stream",
     "text": [
      "Enter the number of observables:\n"
     ]
    },
    {
     "ename": "ValueError",
     "evalue": "invalid literal for int() with base 10: ''",
     "output_type": "error",
     "traceback": [
      "\u001b[1;31m---------------------------------------------------------------------------\u001b[0m",
      "\u001b[1;31mValueError\u001b[0m                                Traceback (most recent call last)",
      "\u001b[1;32m<ipython-input-5-8b835c561f3a>\u001b[0m in \u001b[0;36m<module>\u001b[1;34m\u001b[0m\n\u001b[1;32m----> 1\u001b[1;33m \u001b[0mN2\u001b[0m \u001b[1;33m=\u001b[0m \u001b[0mint\u001b[0m\u001b[1;33m(\u001b[0m\u001b[0minput\u001b[0m\u001b[1;33m(\u001b[0m\u001b[1;34m\"Enter the number of observables:\"\u001b[0m\u001b[1;33m)\u001b[0m\u001b[1;33m)\u001b[0m\u001b[1;33m\u001b[0m\u001b[1;33m\u001b[0m\u001b[0m\n\u001b[0m\u001b[0;32m      2\u001b[0m \u001b[0mR2\u001b[0m \u001b[1;33m=\u001b[0m \u001b[0mint\u001b[0m\u001b[1;33m(\u001b[0m\u001b[0minput\u001b[0m\u001b[1;33m(\u001b[0m\u001b[1;34m\"Enter the number of rows:\"\u001b[0m\u001b[1;33m)\u001b[0m\u001b[1;33m)\u001b[0m\u001b[1;33m\u001b[0m\u001b[1;33m\u001b[0m\u001b[0m\n\u001b[0;32m      3\u001b[0m \u001b[0mC2\u001b[0m \u001b[1;33m=\u001b[0m \u001b[0mint\u001b[0m\u001b[1;33m(\u001b[0m\u001b[0minput\u001b[0m\u001b[1;33m(\u001b[0m\u001b[1;34m\"Enter the number of columns:\"\u001b[0m\u001b[1;33m)\u001b[0m\u001b[1;33m)\u001b[0m\u001b[1;33m\u001b[0m\u001b[1;33m\u001b[0m\u001b[0m\n\u001b[0;32m      4\u001b[0m \u001b[0mlist_obs2\u001b[0m\u001b[1;33m=\u001b[0m\u001b[0mlist\u001b[0m\u001b[1;33m(\u001b[0m\u001b[1;33m)\u001b[0m\u001b[1;33m\u001b[0m\u001b[1;33m\u001b[0m\u001b[0m\n\u001b[0;32m      5\u001b[0m \u001b[1;33m\u001b[0m\u001b[0m\n",
      "\u001b[1;31mValueError\u001b[0m: invalid literal for int() with base 10: ''"
     ]
    }
   ],
   "source": [
    "N2 = int(input(\"Enter the number of observables:\"))\n",
    "R2 = int(input(\"Enter the number of rows:\")) \n",
    "C2 = int(input(\"Enter the number of columns:\")) \n",
    "list_obs2=list()  \n",
    "  \n",
    "print(\"Enter the entries in a single line (separated by space): \") \n",
    "  \n",
    "for i in range(N2):\n",
    "    \n",
    "    entries = list(map(complex, input().split())) \n",
    "    obs_i2 = np.array(entries).reshape(R2, C2)\n",
    "    list_obs2.append(obs_i2)\n",
    "    print('observable'+str(i)+'=',obs_i2)"
   ]
  },
  {
   "cell_type": "code",
   "execution_count": 6,
   "metadata": {},
   "outputs": [],
   "source": [
    "Time_points=np.arange(1,10,0.1)"
   ]
  },
  {
   "cell_type": "code",
   "execution_count": 7,
   "metadata": {},
   "outputs": [
    {
     "ename": "NameError",
     "evalue": "name 'psi_initial' is not defined",
     "output_type": "error",
     "traceback": [
      "\u001b[1;31m---------------------------------------------------------------------------\u001b[0m",
      "\u001b[1;31mNameError\u001b[0m                                 Traceback (most recent call last)",
      "\u001b[1;32m<ipython-input-7-bcb5019f93fb>\u001b[0m in \u001b[0;36m<module>\u001b[1;34m\u001b[0m\n\u001b[1;32m----> 1\u001b[1;33m \u001b[0ma\u001b[0m\u001b[1;33m=\u001b[0m\u001b[0mfunc2\u001b[0m\u001b[1;33m(\u001b[0m\u001b[0mpsi_initial\u001b[0m\u001b[1;33m,\u001b[0m\u001b[0mham2\u001b[0m\u001b[1;33m,\u001b[0m\u001b[0mlist_obs2\u001b[0m\u001b[1;33m,\u001b[0m\u001b[0mTime_points\u001b[0m\u001b[1;33m)\u001b[0m\u001b[1;33m\u001b[0m\u001b[1;33m\u001b[0m\u001b[0m\n\u001b[0m",
      "\u001b[1;31mNameError\u001b[0m: name 'psi_initial' is not defined"
     ]
    }
   ],
   "source": [
    "a=func2(psi_initial,ham2,list_obs2,Time_points)"
   ]
  },
  {
   "cell_type": "code",
   "execution_count": 8,
   "metadata": {},
   "outputs": [
    {
     "ename": "NameError",
     "evalue": "name 'N2' is not defined",
     "output_type": "error",
     "traceback": [
      "\u001b[1;31m---------------------------------------------------------------------------\u001b[0m",
      "\u001b[1;31mNameError\u001b[0m                                 Traceback (most recent call last)",
      "\u001b[1;32m<ipython-input-8-594bd013a50a>\u001b[0m in \u001b[0;36m<module>\u001b[1;34m\u001b[0m\n\u001b[1;32m----> 1\u001b[1;33m \u001b[1;32mfor\u001b[0m \u001b[0mi\u001b[0m \u001b[1;32min\u001b[0m \u001b[0mrange\u001b[0m\u001b[1;33m(\u001b[0m\u001b[0mN2\u001b[0m\u001b[1;33m)\u001b[0m\u001b[1;33m:\u001b[0m\u001b[1;33m\u001b[0m\u001b[1;33m\u001b[0m\u001b[0m\n\u001b[0m\u001b[0;32m      2\u001b[0m     \u001b[0mplt\u001b[0m\u001b[1;33m.\u001b[0m\u001b[0mplot\u001b[0m\u001b[1;33m(\u001b[0m\u001b[0mlist\u001b[0m\u001b[1;33m(\u001b[0m\u001b[0mTime_points\u001b[0m\u001b[1;33m)\u001b[0m\u001b[1;33m,\u001b[0m\u001b[0ma\u001b[0m\u001b[1;33m[\u001b[0m\u001b[0mi\u001b[0m\u001b[1;33m]\u001b[0m\u001b[1;33m)\u001b[0m\u001b[1;33m\u001b[0m\u001b[1;33m\u001b[0m\u001b[0m\n\u001b[0;32m      3\u001b[0m \u001b[1;33m\u001b[0m\u001b[0m\n",
      "\u001b[1;31mNameError\u001b[0m: name 'N2' is not defined"
     ]
    }
   ],
   "source": [
    "for i in range(N2):\n",
    "    plt.plot(list(Time_points),a[i])\n",
    "    "
   ]
  },
  {
   "cell_type": "code",
   "execution_count": null,
   "metadata": {},
   "outputs": [],
   "source": []
  },
  {
   "cell_type": "code",
   "execution_count": null,
   "metadata": {},
   "outputs": [],
   "source": []
  },
  {
   "cell_type": "code",
   "execution_count": null,
   "metadata": {},
   "outputs": [],
   "source": []
  }
 ],
 "metadata": {
  "kernelspec": {
   "display_name": "Python 3",
   "language": "python",
   "name": "python3"
  },
  "language_info": {
   "codemirror_mode": {
    "name": "ipython",
    "version": 3
   },
   "file_extension": ".py",
   "mimetype": "text/x-python",
   "name": "python",
   "nbconvert_exporter": "python",
   "pygments_lexer": "ipython3",
   "version": "3.8.3"
  }
 },
 "nbformat": 4,
 "nbformat_minor": 4
}
